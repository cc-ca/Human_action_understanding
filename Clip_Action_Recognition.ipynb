{
  "nbformat": 4,
  "nbformat_minor": 0,
  "metadata": {
    "colab": {
      "provenance": [],
      "include_colab_link": true
    },
    "kernelspec": {
      "name": "python3",
      "display_name": "Python 3"
    },
    "accelerator": "GPU"
  },
  "cells": [
    {
      "cell_type": "markdown",
      "metadata": {
        "id": "view-in-github",
        "colab_type": "text"
      },
      "source": [
        "<a href=\"https://colab.research.google.com/github/cc-ca/Human_action_understanding/blob/clip/Clip_Action_Recognition.ipynb\" target=\"_parent\"><img src=\"https://colab.research.google.com/assets/colab-badge.svg\" alt=\"Open In Colab\"/></a>"
      ]
    },
    {
      "cell_type": "markdown",
      "source": [],
      "metadata": {
        "id": "SWtMDhQ0_ryi"
      }
    },
    {
      "cell_type": "markdown",
      "source": [
        "TODO : \n",
        "- print only the name of the class\n",
        "- calculate accuracy with validation test/TOP1 and TOP3 accuracy (done)\n",
        "- use more frame to predict the action"
      ],
      "metadata": {
        "id": "OrEFHXFi_sdW"
      }
    },
    {
      "cell_type": "markdown",
      "metadata": {
        "id": "dbdQ7j8Yr5N8"
      },
      "source": [
        "# Using CLIP to classify actions in video\n",
        "\n",
        "This notebook presents classification of human's action in video based on CLIP zero-short transfer learning capabilities.\n",
        "\n"
      ]
    },
    {
      "cell_type": "code",
      "source": [
        "from google.colab import drive\n",
        "drive.mount('/content/drive', force_remount=True)"
      ],
      "metadata": {
        "id": "Hkxxw95kfMKE",
        "outputId": "e7f8fd2f-1ecf-4226-8ae9-c24c5d0693ff",
        "colab": {
          "base_uri": "https://localhost:8080/"
        }
      },
      "execution_count": 1,
      "outputs": [
        {
          "output_type": "stream",
          "name": "stdout",
          "text": [
            "Mounted at /content/drive\n"
          ]
        }
      ]
    },
    {
      "cell_type": "markdown",
      "metadata": {
        "id": "mGDrh01qsmGQ"
      },
      "source": [
        "# Download and Install CLIP Dependencies\n",
        "\n"
      ]
    },
    {
      "cell_type": "code",
      "metadata": {
        "id": "00bHucsqrjsc",
        "colab": {
          "base_uri": "https://localhost:8080/"
        },
        "outputId": "bea1b993-87b5-41ce-f7c6-e18166e9e44d"
      },
      "source": [
        "# installing some dependencies, CLIP was released in PyTorch\n",
        "import subprocess\n",
        "\n",
        "CUDA_version = [s for s in subprocess.check_output([\"nvcc\", \"--version\"]).decode(\"UTF-8\").split(\", \") if s.startswith(\"release\")][0].split(\" \")[-1]\n",
        "print(\"CUDA version:\", CUDA_version)\n",
        "\n",
        "if CUDA_version == \"10.0\":\n",
        "    torch_version_suffix = \"+cu100\"\n",
        "elif CUDA_version == \"10.1\":\n",
        "    torch_version_suffix = \"+cu101\"\n",
        "elif CUDA_version == \"10.2\":\n",
        "    torch_version_suffix = \"\"\n",
        "else:\n",
        "    torch_version_suffix = \"+cu110\"\n",
        "\n",
        "!pip install torch==1.7.1{torch_version_suffix} torchvision==0.8.2{torch_version_suffix} -f https://download.pytorch.org/whl/torch_stable.html ftfy regex\n",
        "\n",
        "import numpy as np\n",
        "import torch\n",
        "\n",
        "print(\"Torch version:\", torch.__version__)"
      ],
      "execution_count": 2,
      "outputs": [
        {
          "output_type": "stream",
          "name": "stdout",
          "text": [
            "CUDA version: 11.8\n",
            "Looking in indexes: https://pypi.org/simple, https://us-python.pkg.dev/colab-wheels/public/simple/\n",
            "Looking in links: https://download.pytorch.org/whl/torch_stable.html\n",
            "Collecting torch==1.7.1+cu110\n",
            "  Downloading https://download.pytorch.org/whl/cu110/torch-1.7.1%2Bcu110-cp39-cp39-linux_x86_64.whl (1156.7 MB)\n",
            "\u001b[2K     \u001b[90m━━━━━━━━━━━━━━━━━━━━━━━━━━━━━━━━━━━━━━━━\u001b[0m \u001b[32m1.2/1.2 GB\u001b[0m \u001b[31m1.5 MB/s\u001b[0m eta \u001b[36m0:00:00\u001b[0m\n",
            "\u001b[?25hCollecting torchvision==0.8.2+cu110\n",
            "  Downloading https://download.pytorch.org/whl/cu110/torchvision-0.8.2%2Bcu110-cp39-cp39-linux_x86_64.whl (12.8 MB)\n",
            "\u001b[2K     \u001b[90m━━━━━━━━━━━━━━━━━━━━━━━━━━━━━━━━━━━━━━━━\u001b[0m \u001b[32m12.8/12.8 MB\u001b[0m \u001b[31m87.6 MB/s\u001b[0m eta \u001b[36m0:00:00\u001b[0m\n",
            "\u001b[?25hCollecting ftfy\n",
            "  Downloading ftfy-6.1.1-py3-none-any.whl (53 kB)\n",
            "\u001b[2K     \u001b[90m━━━━━━━━━━━━━━━━━━━━━━━━━━━━━━━━━━━━━━━━\u001b[0m \u001b[32m53.1/53.1 kB\u001b[0m \u001b[31m6.1 MB/s\u001b[0m eta \u001b[36m0:00:00\u001b[0m\n",
            "\u001b[?25hRequirement already satisfied: regex in /usr/local/lib/python3.9/dist-packages (2022.10.31)\n",
            "Requirement already satisfied: typing-extensions in /usr/local/lib/python3.9/dist-packages (from torch==1.7.1+cu110) (4.5.0)\n",
            "Requirement already satisfied: numpy in /usr/local/lib/python3.9/dist-packages (from torch==1.7.1+cu110) (1.22.4)\n",
            "Requirement already satisfied: pillow>=4.1.1 in /usr/local/lib/python3.9/dist-packages (from torchvision==0.8.2+cu110) (8.4.0)\n",
            "Requirement already satisfied: wcwidth>=0.2.5 in /usr/local/lib/python3.9/dist-packages (from ftfy) (0.2.6)\n",
            "Installing collected packages: torch, ftfy, torchvision\n",
            "  Attempting uninstall: torch\n",
            "    Found existing installation: torch 2.0.0+cu118\n",
            "    Uninstalling torch-2.0.0+cu118:\n",
            "      Successfully uninstalled torch-2.0.0+cu118\n",
            "  Attempting uninstall: torchvision\n",
            "    Found existing installation: torchvision 0.15.1+cu118\n",
            "    Uninstalling torchvision-0.15.1+cu118:\n",
            "      Successfully uninstalled torchvision-0.15.1+cu118\n",
            "\u001b[31mERROR: pip's dependency resolver does not currently take into account all the packages that are installed. This behaviour is the source of the following dependency conflicts.\n",
            "torchtext 0.15.1 requires torch==2.0.0, but you have torch 1.7.1+cu110 which is incompatible.\n",
            "torchdata 0.6.0 requires torch==2.0.0, but you have torch 1.7.1+cu110 which is incompatible.\n",
            "torchaudio 2.0.1+cu118 requires torch==2.0.0, but you have torch 1.7.1+cu110 which is incompatible.\u001b[0m\u001b[31m\n",
            "\u001b[0mSuccessfully installed ftfy-6.1.1 torch-1.7.1+cu110 torchvision-0.8.2+cu110\n",
            "Torch version: 1.7.1+cu110\n"
          ]
        }
      ]
    },
    {
      "cell_type": "code",
      "metadata": {
        "id": "JWDgMC3os6hc",
        "colab": {
          "base_uri": "https://localhost:8080/"
        },
        "outputId": "d6b21657-a413-4a29-a1f9-814c310ede11"
      },
      "source": [
        "# clone the CLIP repository\n",
        "!git clone https://github.com/openai/CLIP.git\n",
        "\n",
        "import sys\n",
        "from pathlib import Path\n",
        "\n",
        "clip_dir = Path(\".\").absolute() / \"CLIP\"\n",
        "sys.path.append(str(clip_dir))\n",
        "print(f\"CLIP dir is: {clip_dir}\")\n",
        "\n",
        "import clip"
      ],
      "execution_count": 3,
      "outputs": [
        {
          "output_type": "stream",
          "name": "stdout",
          "text": [
            "Cloning into 'CLIP'...\n",
            "remote: Enumerating objects: 243, done.\u001b[K\n",
            "remote: Total 243 (delta 0), reused 0 (delta 0), pack-reused 243\u001b[K\n",
            "Receiving objects: 100% (243/243), 8.92 MiB | 17.11 MiB/s, done.\n",
            "Resolving deltas: 100% (124/124), done.\n",
            "CLIP dir is: /content/CLIP\n"
          ]
        }
      ]
    },
    {
      "cell_type": "code",
      "metadata": {
        "id": "-WWjPjlD5SMY",
        "colab": {
          "base_uri": "https://localhost:8080/"
        },
        "outputId": "799be55c-a293-4ab2-dc33-43dd5dd9c572"
      },
      "source": [
        "# Load pre-trained model\n",
        "import os\n",
        "\n",
        "device = \"cuda\" if torch.cuda.is_available() else \"cpu\"\n",
        "model, transform = clip.load(\"ViT-B/32\", device=device)\n",
        "print(f\"Model dir: {os.path.expanduser('~/.cache/clip')}\")"
      ],
      "execution_count": 4,
      "outputs": [
        {
          "output_type": "stream",
          "name": "stderr",
          "text": [
            "100%|███████████████████████████████████████| 338M/338M [00:05<00:00, 65.8MiB/s]\n"
          ]
        },
        {
          "output_type": "stream",
          "name": "stdout",
          "text": [
            "Model dir: /root/.cache/clip\n"
          ]
        }
      ]
    },
    {
      "cell_type": "markdown",
      "metadata": {
        "id": "L0yV5A-U2n0M"
      },
      "source": [
        "# Class labels\n",
        "\n",
        "We need class definitions for the classification task. Class definitions are provided as text that describe images. For example, `this is an image showing a cat`. Here, `cat` is our class of interest.\n",
        "\n",
        "CLIP may be sensitive to use of words in text description. You may need to do your own experiments. Below I will show the effect of this."
      ]
    },
    {
      "cell_type": "markdown",
      "metadata": {
        "id": "udtQDZwODkXe"
      },
      "source": [
        "Now we tokenize the text and calculate embeddings from tokens"
      ]
    },
    {
      "cell_type": "markdown",
      "source": [
        "# Prepare folders"
      ],
      "metadata": {
        "id": "PaMiMlFVXDpz"
      }
    },
    {
      "cell_type": "code",
      "source": [
        "if(not os.path.isdir('video')):\n",
        "  os.mkdir('video')\n",
        "\n",
        "if(not os.path.isdir('frames')):\n",
        "  os.mkdir('frames')\n",
        "  os.makedirs('frames/no_tag')"
      ],
      "metadata": {
        "id": "FxnWXKpTXCo8"
      },
      "execution_count": 5,
      "outputs": []
    },
    {
      "cell_type": "code",
      "source": [
        "def deleteFrames():\n",
        "  video_paths = os.listdir('./frames/no_tag/')\n",
        "  for path in video_paths:\n",
        "    if(path != \".ipynb_checkpoints\"):\n",
        "      os.remove('./frames/no_tag/'+path)\n"
      ],
      "metadata": {
        "id": "xdkeXhbjb-0x"
      },
      "execution_count": 6,
      "outputs": []
    },
    {
      "cell_type": "markdown",
      "metadata": {
        "id": "oH71YlKBEAUb"
      },
      "source": [
        "# Prepare images\n",
        "\n",
        "We will consume images with the help of `ImageFolder` dataset from `PyTorch`."
      ]
    },
    {
      "cell_type": "code",
      "metadata": {
        "id": "fMIIcxju55y3"
      },
      "source": [
        "import matplotlib.pyplot as plt\n",
        "import os\n",
        "from PIL import Image\n",
        "from torchvision.datasets import ImageFolder\n",
        "from torch.utils.data import DataLoader\n",
        "import cv2\n",
        "import random\n",
        "import tensorflow as tf\n",
        "import numpy as np"
      ],
      "execution_count": 7,
      "outputs": []
    },
    {
      "cell_type": "code",
      "metadata": {
        "id": "QyW4sH91EjBn"
      },
      "source": [
        "# In order to display the image we will need to de-nonrmalize them\n",
        "image_mean = torch.tensor([0.48145466, 0.4578275, 0.40821073]).to('cpu')\n",
        "image_std = torch.tensor([0.26862954, 0.26130258, 0.27577711]).to('cpu')\n",
        "\n",
        "def denormalize_image(image: torch.Tensor) -> torch.Tensor:\n",
        "    image *= image_std[:, None, None]    \n",
        "    image += image_mean[:, None, None]\n",
        "    return image"
      ],
      "execution_count": 8,
      "outputs": []
    },
    {
      "cell_type": "code",
      "source": [
        "def format_frames(frame, output_size):\n",
        "  \"\"\"\n",
        "    Pad and resize an image from a video.\n",
        "    \n",
        "    Args:\n",
        "      frame: Image that needs to resized and padded. \n",
        "      output_size: Pixel size of the output frame image.\n",
        "\n",
        "    Return:\n",
        "      Formatted frame with padding of specified output size.\n",
        "  \"\"\"\n",
        "  frame = tf.image.convert_image_dtype(frame, tf.float32)\n",
        "  frame = tf.image.resize_with_pad(frame, *output_size)\n",
        "  return frame"
      ],
      "metadata": {
        "id": "RPn-xJV4lyss"
      },
      "execution_count": 9,
      "outputs": []
    },
    {
      "cell_type": "code",
      "source": [
        "def frames_from_video_file(video_path, n_frames, output_size = (244,244), frame_step = 15):\n",
        "  \"\"\"\n",
        "    Creates frames from each video file present for each category.\n",
        "\n",
        "    Args:\n",
        "      video_path: File path to the video.\n",
        "      n_frames: Number of frames to be created per video file.\n",
        "      output_size: Pixel size of the output frame image.\n",
        "\n",
        "    Return:\n",
        "      An NumPy array of frames in the shape of (n_frames, height, width, channels).\n",
        "  \"\"\"\n",
        "  # Read each video frame by frame\n",
        "  result = []\n",
        "  src = cv2.VideoCapture(str(video_path))  \n",
        "\n",
        "  video_length = src.get(cv2.CAP_PROP_FRAME_COUNT)\n",
        "\n",
        "  need_length = 1 + (n_frames - 1) * frame_step\n",
        "\n",
        "  if need_length > video_length:\n",
        "    start = 0\n",
        "  else:\n",
        "    max_start = video_length - need_length\n",
        "    start = random.randint(0, max_start + 1)\n",
        "\n",
        "  src.set(cv2.CAP_PROP_POS_FRAMES, start)\n",
        "  # ret is a boolean indicating whether read was successful, frame is the image itself\n",
        "  ret, frame = src.read()\n",
        "  result.append(format_frames(frame, output_size))\n",
        "\n",
        "  for _ in range(n_frames - 1):\n",
        "    for _ in range(frame_step):\n",
        "      ret, frame = src.read()\n",
        "    if ret:\n",
        "      frame = format_frames(frame, output_size)\n",
        "      result.append(frame)\n",
        "    else:\n",
        "      result.append(np.zeros_like(result[0]))\n",
        "  src.release()\n",
        "  result = np.array(result)[..., [2, 1, 0]]\n",
        "\n",
        "  return result"
      ],
      "metadata": {
        "id": "o3Ig-7_IlZQM"
      },
      "execution_count": 10,
      "outputs": []
    },
    {
      "cell_type": "code",
      "source": [
        "def convert(images):\n",
        "  converted_images = np.clip(images * 255, 0, 255).astype(np.uint8)\n",
        "  return converted_images"
      ],
      "metadata": {
        "id": "FtUkEsdMqmSn"
      },
      "execution_count": 11,
      "outputs": []
    },
    {
      "cell_type": "code",
      "source": [
        "def sample_video(video_paths):\n",
        "    sample_video = frames_from_video_file(str(video_paths), n_frames = 1)\n",
        "    sample_video = convert(sample_video[0])\n",
        "    img = Image.fromarray(sample_video, 'RGB')\n",
        "    id = random.randint(0,100000)\n",
        "    filePath = 'frames/no_tag/' +str(id) + \".jpg\"\n",
        "    while(os.path.isfile(filePath)):\n",
        "      id = id + random.randint(0,100000)\n",
        "      filePath = 'frames/no_tag/'+ str(id) + \".jpg\"\n",
        "    img.save(filePath)\n",
        "    return id"
      ],
      "metadata": {
        "id": "F2bINGI8x3_8"
      },
      "execution_count": 12,
      "outputs": []
    },
    {
      "cell_type": "code",
      "metadata": {
        "id": "eveUYaMzHXIP"
      },
      "source": [
        "def show_results(image_features, text_features, class_names, dataset):\n",
        "    # depends on global var dataset\n",
        "\n",
        "    text_probs = (100.0 * image_features @ text_features.T).softmax(dim=-1)\n",
        "    k = np.min([len(class_names), 20])\n",
        "    # top_probs, top_labels = text_probs.cpu().topk(k, dim=-1)\n",
        "    text_probs = text_probs.cpu()\n",
        "\n",
        "    plt.figure(figsize=(40, 25))\n",
        "\n",
        "    for i, (image, label_idx) in enumerate(dataset):\n",
        "        plt.subplot(8, 8, 2 * i + 1)\n",
        "        plt.imshow(denormalize_image(image).permute(1, 2, 0))\n",
        "        plt.axis(\"off\")\n",
        "\n",
        "        plt.subplot(8, 8, 2 * i + 2)\n",
        "        y = np.arange(k)\n",
        "        plt.grid()\n",
        "        plt.barh(y, text_probs[i])\n",
        "        plt.gca().invert_yaxis()\n",
        "        plt.gca().set_axisbelow(True)\n",
        "        # plt.yticks(y, [class_names[index] for index in top_labels[i].numpy()])\n",
        "        plt.yticks(y, class_names)\n",
        "        plt.xlabel(\"probability\")\n",
        "\n",
        "    plt.subplots_adjust(wspace=0.5)\n",
        "    plt.show()\n",
        "    "
      ],
      "execution_count": 13,
      "outputs": []
    },
    {
      "cell_type": "code",
      "source": [
        "def predict_action(video_path, class_names):\n",
        "  video_action_probs = list()\n",
        "  for video in video_path:\n",
        "    print(\"./video/\"+video)\n",
        "    sample_video(\"./video/\"+video)\n",
        "  folder_names = sorted(os.listdir('./frames/'))\n",
        "  class_to_idx = {class_names[i]: i for i in range(len(folder_names))}\n",
        "  class_captions = [f\"An image depicting a {x}\" for x in class_names]\n",
        "  text_input = clip.tokenize(class_captions).to(device)\n",
        "  #print(f\"Tokens shape: {text_input.shape}\")\n",
        "\n",
        "  with torch.no_grad():\n",
        "    text_features = model.encode_text(text_input).float()\n",
        "    text_features /= text_features.norm(dim=-1, keepdim=True)\n",
        "  #print(f\"Text features shape: {text_features.shape}\")\n",
        "  dataset = ImageFolder(root=\"./frames\", transform=transform)\n",
        "  data_batches = DataLoader(dataset, batch_size=len(dataset), shuffle=False) \n",
        "\n",
        "  image_input, y_true = next(iter(data_batches))\n",
        "  image_input = image_input.to(device)\n",
        "\n",
        "  with torch.no_grad():\n",
        "    image_features = model.encode_image(image_input).float()\n",
        "\n",
        "\n",
        "  \n",
        "  text_probs = (100.0 * image_features @ text_features.T).softmax(dim=-1)\n",
        "  text_probs = np.array(text_probs.cpu())\n",
        "  \n",
        "  for i in range(len(text_probs)):\n",
        "    index_max = np.argmax(text_probs)\n",
        "    #video_action_probs.append((video_path[i],class_names[index_max]))\n",
        "    video_action_probs.append(class_names[index_max])\n",
        "  show_results(image_features, text_features, class_names, dataset)  \n",
        "  deleteFrames()\n",
        "  return video_action_probs\n"
      ],
      "metadata": {
        "id": "dMX0WPhusaTG"
      },
      "execution_count": 35,
      "outputs": []
    },
    {
      "cell_type": "code",
      "source": [
        "class_names = ['applauding', 'cleaning toilet', 'doing nails', 'opening bottle (not wine)', 'petting cat', 'pillow fight', 'playing cards', 'playing guitar', 'smoking', 'stretching arm', 'vacuuming floor', 'washing dishes']"
      ],
      "metadata": {
        "id": "KL-Q6ETAua-J"
      },
      "execution_count": 15,
      "outputs": []
    },
    {
      "cell_type": "code",
      "source": [
        "video_names = sorted(os.listdir('./video/'))\n",
        "\n",
        "if(len(video_names) != 0):\n",
        "  if(video_names[0] == \".ipynb_checkpoints\"):\n",
        "    video_names.pop(0)\n",
        "  try:\n",
        "    video_action_probs = predict_action(video_names, class_names)\n",
        "  except:\n",
        "    print(\"Incorrect files or Error during prediction !\")\n",
        "\n",
        "else:\n",
        "  print(\"The folder video is empty. Upload inside video(s) you want to predict !\")"
      ],
      "metadata": {
        "id": "kFR-Pl97p4hH",
        "outputId": "da8086e4-9c77-4650-e1dc-0efc6f319a86",
        "colab": {
          "base_uri": "https://localhost:8080/",
          "height": 354
        }
      },
      "execution_count": 34,
      "outputs": [
        {
          "output_type": "stream",
          "name": "stdout",
          "text": [
            "./video/l3l8nUCcJzk_000051_000061.mp4\n",
            "[[2.7646217e-41 5.6051939e-44 2.1717247e-35 8.8590179e-35 0.0000000e+00\n",
            "  4.8718255e-24 1.0000000e+00 4.9045446e-44 3.9826275e-32 0.0000000e+00\n",
            "  2.2210581e-42 2.8025969e-45]]\n"
          ]
        },
        {
          "output_type": "display_data",
          "data": {
            "text/plain": [
              "<Figure size 4000x2500 with 2 Axes>"
            ],
            "image/png": "[encoded data removed]"
          },
          "metadata": {}
        }
      ]
    },
    {
      "cell_type": "code",
      "source": [
        "def Accuracy():\n",
        "  class_names = ['applauding', 'cleaning toilet', 'doing nails', 'opening bottle (not wine)', 'petting cat', 'pillow fight', 'playing cards', 'playing guitar', 'smoking', 'stretching arm', 'vacuuming floor', 'washing dishes']\n",
        "  val_dataset = list()\n",
        "  dataset=dict()\n",
        "  video_class_predict = dict()\n",
        "  for class_name in class_names:\n",
        "    for video in sorted(os.listdir('/content/drive/MyDrive/val/' + class_name)):\n",
        "      val_dataset.append((video, class_name))\n",
        "  for video in val_dataset:\n",
        "    try:\n",
        "      id = sample_video(\"/content/drive/MyDrive/dataset/val/\"+video[1]+\"/\"+video[0])\n",
        "      dataset[str(id)] = video\n",
        "    except:\n",
        "      val_dataset.remove(video)\n",
        "      continue\n",
        "  #return val_dataset, dataset\n",
        "\n",
        "  folder_names = sorted(os.listdir('./frames/'))\n",
        "  class_to_idx = {class_names[i]: i for i in range(len(folder_names))}\n",
        "  class_captions = [f\"An image depicting a {x}\" for x in class_names]\n",
        "  text_input = clip.tokenize(class_captions).to(device)\n",
        "  #print(f\"Tokens shape: {text_input.shape}\")\n",
        "\n",
        "  with torch.no_grad():\n",
        "    text_features = model.encode_text(text_input).float()\n",
        "    text_features /= text_features.norm(dim=-1, keepdim=True)\n",
        "  #print(f\"Text features shape: {text_features.shape}\")\n",
        "  data = ImageFolder(root=\"./frames\", transform=transform)\n",
        "  data_batches = DataLoader(data, batch_size=len(dataset), shuffle=False) \n",
        "\n",
        "  image_input, y_true = next(iter(data_batches))\n",
        "  image_input = image_input.to(device)\n",
        "\n",
        "  with torch.no_grad():\n",
        "    image_features = model.encode_image(image_input).float()\n",
        "\n",
        "\n",
        "  \n",
        "  text_probs = (100.0 * image_features @ text_features.T).softmax(dim=-1)\n",
        "  text_probs = np.array(text_probs.cpu())\n",
        "\n",
        "  #TODO : peut être fire un os.listfile mettre dans une liste et s'en servir pour récupérer l'id avec le nom des fichiers ?\n",
        "\n",
        "  index = 0\n",
        "  frames = sorted(os.listdir('./frames/no_tag'))\n",
        "  for frame in frames:\n",
        "    prediction = dict()\n",
        "    indexs_max = np.argsort(text_probs[index])[::-1][:3]\n",
        "    i=1\n",
        "    for index_max in indexs_max:\n",
        "      if(text_probs[index][index_max] == 0):\n",
        "        prediction[str(i)] = \"None\"\n",
        "      else:\n",
        "        prediction[str(i)] = class_names[index_max]\n",
        "      i+=1\n",
        "\n",
        "    video_class_predict[frame[:len(frame)-4]] = prediction\n",
        "    index+=1\n",
        "  \n",
        "  number_of_prediction_correct_top1 = 0\n",
        "  number_of_prediction_correct_top3 = 0\n",
        "\n",
        "  for id in video_class_predict:\n",
        "    predict = video_class_predict[id]\n",
        "    if(predict['1'] == dataset[id][1]):\n",
        "      number_of_prediction_correct_top1 +=1\n",
        "    elif(predict['2'] == dataset[id][1] or predict['3'] == dataset[id][1]):\n",
        "      number_of_prediction_correct_top3 +=1\n",
        "\n",
        "  number_of_prediction_correct_top3 += number_of_prediction_correct_top1\n",
        "  deleteFrames()\n",
        "  accuracy = {\"Top1\":number_of_prediction_correct_top1/len(video_class_predict)*100, \"Top3\":number_of_prediction_correct_top3/len(video_class_predict)*100} \n",
        "  return accuracy, video_class_predict, text_probs"
      ],
      "metadata": {
        "id": "piHlC0XFaETR"
      },
      "execution_count": 24,
      "outputs": []
    },
    {
      "cell_type": "code",
      "source": [
        "deleteFrames()"
      ],
      "metadata": {
        "id": "B12yg9t8cTdb"
      },
      "execution_count": 28,
      "outputs": []
    },
    {
      "cell_type": "code",
      "source": [
        "accuracy, predict, probs = Accuracy()\n",
        "print(f\"Accuracy: TOP1 = {accuracy['Top1']}% ; TOP3 = {accuracy['Top3']}%\")"
      ],
      "metadata": {
        "id": "0cn4xjBxZMPA",
        "colab": {
          "base_uri": "https://localhost:8080/"
        },
        "outputId": "acd7a419-63e9-489e-d2c8-cd10a2e1693c"
      },
      "execution_count": 27,
      "outputs": [
        {
          "output_type": "stream",
          "name": "stdout",
          "text": [
            "Accuracy: TOP1 = 70.95070422535211% ; TOP3 = 86.97183098591549%\n"
          ]
        }
      ]
    },
    {
      "cell_type": "code",
      "source": [],
      "metadata": {
        "id": "vinY0E0Gpzuq"
      },
      "execution_count": null,
      "outputs": []
    }
  ]
}