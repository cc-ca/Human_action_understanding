{
 "cells": [
  {
   "cell_type": "code",
   "execution_count": 20,
   "metadata": {},
   "outputs": [
    {
     "ename": "ModuleNotFoundError",
     "evalue": "No module named 'tensorflow'",
     "output_type": "error",
     "traceback": [
      "\u001b[1;31m---------------------------------------------------------------------------\u001b[0m",
      "\u001b[1;31mModuleNotFoundError\u001b[0m                       Traceback (most recent call last)",
      "Cell \u001b[1;32mIn[20], line 4\u001b[0m\n\u001b[0;32m      2\u001b[0m \u001b[39mfrom\u001b[39;00m \u001b[39mos\u001b[39;00m\u001b[39m.\u001b[39;00m\u001b[39mpath\u001b[39;00m \u001b[39mimport\u001b[39;00m isfile, join\n\u001b[0;32m      3\u001b[0m \u001b[39mimport\u001b[39;00m \u001b[39mpandas\u001b[39;00m \u001b[39mas\u001b[39;00m \u001b[39mpd\u001b[39;00m\n\u001b[1;32m----> 4\u001b[0m \u001b[39mimport\u001b[39;00m \u001b[39mtensorflow\u001b[39;00m \u001b[39mas\u001b[39;00m \u001b[39mtf\u001b[39;00m\n",
      "\u001b[1;31mModuleNotFoundError\u001b[0m: No module named 'tensorflow'"
     ]
    }
   ],
   "source": [
    "from os import listdir\n",
    "from os.path import isfile, join\n",
    "import pandas as pd\n",
    "import tensorflow as tf"
   ]
  },
  {
   "cell_type": "code",
   "execution_count": 7,
   "metadata": {},
   "outputs": [],
   "source": [
    "#specify the path to the dataset\n",
    "traindir = r\"C:\\Users\\totol\\Documents\\dataset\\train\"\n",
    "valdir = r\"C:\\Users\\totol\\Documents\\dataset\\val\""
   ]
  },
  {
   "cell_type": "code",
   "execution_count": 8,
   "metadata": {},
   "outputs": [],
   "source": [
    "def extract_url_labels(dir):\n",
    "    #create an empty pandas dataframe\n",
    "    df = pd.DataFrame({'url': [], 'label': []})\n",
    "    actions_dir = listdir(dir)\n",
    "    for tmpdir in actions_dir:\n",
    "        #print(tmpdir)\n",
    "        Lfiles = listdir(dir+\"\\\\\"+tmpdir)\n",
    "        #print(Lfiles)\n",
    "        for video in Lfiles:\n",
    "            df.loc[len(df)] = [dir + \"\\\\\"+ video, tmpdir]\n",
    "    return(df)\n"
   ]
  },
  {
   "cell_type": "code",
   "execution_count": 9,
   "metadata": {},
   "outputs": [
    {
     "data": {
      "text/html": [
       "<div>\n",
       "<style scoped>\n",
       "    .dataframe tbody tr th:only-of-type {\n",
       "        vertical-align: middle;\n",
       "    }\n",
       "\n",
       "    .dataframe tbody tr th {\n",
       "        vertical-align: top;\n",
       "    }\n",
       "\n",
       "    .dataframe thead th {\n",
       "        text-align: right;\n",
       "    }\n",
       "</style>\n",
       "<table border=\"1\" class=\"dataframe\">\n",
       "  <thead>\n",
       "    <tr style=\"text-align: right;\">\n",
       "      <th></th>\n",
       "      <th>url</th>\n",
       "      <th>label</th>\n",
       "    </tr>\n",
       "  </thead>\n",
       "  <tbody>\n",
       "    <tr>\n",
       "      <th>0</th>\n",
       "      <td>C:\\Users\\totol\\Documents\\dataset\\train\\-dJCAuk...</td>\n",
       "      <td>applauding</td>\n",
       "    </tr>\n",
       "    <tr>\n",
       "      <th>1</th>\n",
       "      <td>C:\\Users\\totol\\Documents\\dataset\\train\\-EP-5Lq...</td>\n",
       "      <td>applauding</td>\n",
       "    </tr>\n",
       "    <tr>\n",
       "      <th>2</th>\n",
       "      <td>C:\\Users\\totol\\Documents\\dataset\\train\\-LXRdUM...</td>\n",
       "      <td>applauding</td>\n",
       "    </tr>\n",
       "    <tr>\n",
       "      <th>3</th>\n",
       "      <td>C:\\Users\\totol\\Documents\\dataset\\train\\-PgjjBi...</td>\n",
       "      <td>applauding</td>\n",
       "    </tr>\n",
       "    <tr>\n",
       "      <th>4</th>\n",
       "      <td>C:\\Users\\totol\\Documents\\dataset\\train\\-r8c7F4...</td>\n",
       "      <td>applauding</td>\n",
       "    </tr>\n",
       "    <tr>\n",
       "      <th>...</th>\n",
       "      <td>...</td>\n",
       "      <td>...</td>\n",
       "    </tr>\n",
       "    <tr>\n",
       "      <th>8696</th>\n",
       "      <td>C:\\Users\\totol\\Documents\\dataset\\train\\_gLNQ0e...</td>\n",
       "      <td>washing dishes</td>\n",
       "    </tr>\n",
       "    <tr>\n",
       "      <th>8697</th>\n",
       "      <td>C:\\Users\\totol\\Documents\\dataset\\train\\_PBVM5E...</td>\n",
       "      <td>washing dishes</td>\n",
       "    </tr>\n",
       "    <tr>\n",
       "      <th>8698</th>\n",
       "      <td>C:\\Users\\totol\\Documents\\dataset\\train\\_Q9DzFp...</td>\n",
       "      <td>washing dishes</td>\n",
       "    </tr>\n",
       "    <tr>\n",
       "      <th>8699</th>\n",
       "      <td>C:\\Users\\totol\\Documents\\dataset\\train\\_zgt8QO...</td>\n",
       "      <td>washing dishes</td>\n",
       "    </tr>\n",
       "    <tr>\n",
       "      <th>8700</th>\n",
       "      <td>C:\\Users\\totol\\Documents\\dataset\\train\\__h0JID...</td>\n",
       "      <td>washing dishes</td>\n",
       "    </tr>\n",
       "  </tbody>\n",
       "</table>\n",
       "<p>8701 rows × 2 columns</p>\n",
       "</div>"
      ],
      "text/plain": [
       "                                                    url           label\n",
       "0     C:\\Users\\totol\\Documents\\dataset\\train\\-dJCAuk...      applauding\n",
       "1     C:\\Users\\totol\\Documents\\dataset\\train\\-EP-5Lq...      applauding\n",
       "2     C:\\Users\\totol\\Documents\\dataset\\train\\-LXRdUM...      applauding\n",
       "3     C:\\Users\\totol\\Documents\\dataset\\train\\-PgjjBi...      applauding\n",
       "4     C:\\Users\\totol\\Documents\\dataset\\train\\-r8c7F4...      applauding\n",
       "...                                                 ...             ...\n",
       "8696  C:\\Users\\totol\\Documents\\dataset\\train\\_gLNQ0e...  washing dishes\n",
       "8697  C:\\Users\\totol\\Documents\\dataset\\train\\_PBVM5E...  washing dishes\n",
       "8698  C:\\Users\\totol\\Documents\\dataset\\train\\_Q9DzFp...  washing dishes\n",
       "8699  C:\\Users\\totol\\Documents\\dataset\\train\\_zgt8QO...  washing dishes\n",
       "8700  C:\\Users\\totol\\Documents\\dataset\\train\\__h0JID...  washing dishes\n",
       "\n",
       "[8701 rows x 2 columns]"
      ]
     },
     "execution_count": 9,
     "metadata": {},
     "output_type": "execute_result"
    }
   ],
   "source": [
    "train_data =extract_url_labels(traindir)\n",
    "train_data\n"
   ]
  },
  {
   "cell_type": "code",
   "execution_count": 10,
   "metadata": {},
   "outputs": [
    {
     "data": {
      "text/html": [
       "<div>\n",
       "<style scoped>\n",
       "    .dataframe tbody tr th:only-of-type {\n",
       "        vertical-align: middle;\n",
       "    }\n",
       "\n",
       "    .dataframe tbody tr th {\n",
       "        vertical-align: top;\n",
       "    }\n",
       "\n",
       "    .dataframe thead th {\n",
       "        text-align: right;\n",
       "    }\n",
       "</style>\n",
       "<table border=\"1\" class=\"dataframe\">\n",
       "  <thead>\n",
       "    <tr style=\"text-align: right;\">\n",
       "      <th></th>\n",
       "      <th>url</th>\n",
       "      <th>label</th>\n",
       "    </tr>\n",
       "  </thead>\n",
       "  <tbody>\n",
       "    <tr>\n",
       "      <th>0</th>\n",
       "      <td>C:\\Users\\totol\\Documents\\dataset\\val\\KGAGYJI51...</td>\n",
       "      <td>applauding</td>\n",
       "    </tr>\n",
       "    <tr>\n",
       "      <th>1</th>\n",
       "      <td>C:\\Users\\totol\\Documents\\dataset\\val\\KMHDg1rBQ...</td>\n",
       "      <td>applauding</td>\n",
       "    </tr>\n",
       "    <tr>\n",
       "      <th>2</th>\n",
       "      <td>C:\\Users\\totol\\Documents\\dataset\\val\\kMM5v77Tu...</td>\n",
       "      <td>applauding</td>\n",
       "    </tr>\n",
       "    <tr>\n",
       "      <th>3</th>\n",
       "      <td>C:\\Users\\totol\\Documents\\dataset\\val\\Kn9-3lPzS...</td>\n",
       "      <td>applauding</td>\n",
       "    </tr>\n",
       "    <tr>\n",
       "      <th>4</th>\n",
       "      <td>C:\\Users\\totol\\Documents\\dataset\\val\\koecwPF1b...</td>\n",
       "      <td>applauding</td>\n",
       "    </tr>\n",
       "    <tr>\n",
       "      <th>...</th>\n",
       "      <td>...</td>\n",
       "      <td>...</td>\n",
       "    </tr>\n",
       "    <tr>\n",
       "      <th>481</th>\n",
       "      <td>C:\\Users\\totol\\Documents\\dataset\\val\\xJD73jh8U...</td>\n",
       "      <td>washing dishes</td>\n",
       "    </tr>\n",
       "    <tr>\n",
       "      <th>482</th>\n",
       "      <td>C:\\Users\\totol\\Documents\\dataset\\val\\YDIk6Lmlv...</td>\n",
       "      <td>washing dishes</td>\n",
       "    </tr>\n",
       "    <tr>\n",
       "      <th>483</th>\n",
       "      <td>C:\\Users\\totol\\Documents\\dataset\\val\\zaKK2ZjRR...</td>\n",
       "      <td>washing dishes</td>\n",
       "    </tr>\n",
       "    <tr>\n",
       "      <th>484</th>\n",
       "      <td>C:\\Users\\totol\\Documents\\dataset\\val\\ZnjpSYYDh...</td>\n",
       "      <td>washing dishes</td>\n",
       "    </tr>\n",
       "    <tr>\n",
       "      <th>485</th>\n",
       "      <td>C:\\Users\\totol\\Documents\\dataset\\val\\ZZZdwibj-...</td>\n",
       "      <td>washing dishes</td>\n",
       "    </tr>\n",
       "  </tbody>\n",
       "</table>\n",
       "<p>486 rows × 2 columns</p>\n",
       "</div>"
      ],
      "text/plain": [
       "                                                   url           label\n",
       "0    C:\\Users\\totol\\Documents\\dataset\\val\\KGAGYJI51...      applauding\n",
       "1    C:\\Users\\totol\\Documents\\dataset\\val\\KMHDg1rBQ...      applauding\n",
       "2    C:\\Users\\totol\\Documents\\dataset\\val\\kMM5v77Tu...      applauding\n",
       "3    C:\\Users\\totol\\Documents\\dataset\\val\\Kn9-3lPzS...      applauding\n",
       "4    C:\\Users\\totol\\Documents\\dataset\\val\\koecwPF1b...      applauding\n",
       "..                                                 ...             ...\n",
       "481  C:\\Users\\totol\\Documents\\dataset\\val\\xJD73jh8U...  washing dishes\n",
       "482  C:\\Users\\totol\\Documents\\dataset\\val\\YDIk6Lmlv...  washing dishes\n",
       "483  C:\\Users\\totol\\Documents\\dataset\\val\\zaKK2ZjRR...  washing dishes\n",
       "484  C:\\Users\\totol\\Documents\\dataset\\val\\ZnjpSYYDh...  washing dishes\n",
       "485  C:\\Users\\totol\\Documents\\dataset\\val\\ZZZdwibj-...  washing dishes\n",
       "\n",
       "[486 rows x 2 columns]"
      ]
     },
     "execution_count": 10,
     "metadata": {},
     "output_type": "execute_result"
    }
   ],
   "source": [
    "val_data = extract_url_labels(valdir)\n",
    "val_data"
   ]
  },
  {
   "cell_type": "code",
   "execution_count": 15,
   "metadata": {},
   "outputs": [
    {
     "name": "stdout",
     "output_type": "stream",
     "text": [
      "nobre de vidéos au total (train+validation) : 9187\n"
     ]
    }
   ],
   "source": [
    "print(\"nobre de vidéos au total (train+validation) : \"+ str(len(train_data)+len(val_data)))"
   ]
  },
  {
   "cell_type": "code",
   "execution_count": 16,
   "metadata": {},
   "outputs": [],
   "source": [
    "def format_frames(frame, output_size):\n",
    "  \"\"\"\n",
    "    Pad and resize an image from a video.\n",
    "    \n",
    "    Args:\n",
    "      frame: Image that needs to resized and padded. \n",
    "      output_size: Pixel size of the output frame image.\n",
    "\n",
    "    Return:\n",
    "      Formatted frame with padding of specified output size.\n",
    "  \"\"\"\n",
    "  frame = tf.image.convert_image_dtype(frame, tf.float32)\n",
    "  frame = tf.image.resize_with_pad(frame, *output_size)\n",
    "  return frame"
   ]
  },
  {
   "cell_type": "code",
   "execution_count": 17,
   "metadata": {},
   "outputs": [],
   "source": [
    "def frames_from_video_file(video_path, n_frames, output_size = (224,224), frame_step = 15):\n",
    "  \"\"\"\n",
    "    Creates frames from each video file present for each category.\n",
    "\n",
    "    Args:\n",
    "      video_path: File path to the video.\n",
    "      n_frames: Number of frames to be created per video file.\n",
    "      output_size: Pixel size of the output frame image.\n",
    "\n",
    "    Return:\n",
    "      An NumPy array of frames in the shape of (n_frames, height, width, channels).\n",
    "  \"\"\"\n",
    "  # Read each video frame by frame\n",
    "  result = []\n",
    "  src = cv2.VideoCapture(str(video_path))  \n",
    "\n",
    "  video_length = src.get(cv2.CAP_PROP_FRAME_COUNT)\n",
    "\n",
    "  need_length = 1 + (n_frames - 1) * frame_step\n",
    "\n",
    "  if need_length > video_length:\n",
    "    start = 0\n",
    "  else:\n",
    "    max_start = video_length - need_length\n",
    "    start = random.randint(0, max_start + 1)\n",
    "\n",
    "  src.set(cv2.CAP_PROP_POS_FRAMES, start)\n",
    "  # ret is a boolean indicating whether read was successful, frame is the image itself\n",
    "  ret, frame = src.read()\n",
    "  result.append(format_frames(frame, output_size))\n",
    "\n",
    "  for _ in range(n_frames - 1):\n",
    "    for _ in range(frame_step):\n",
    "      ret, frame = src.read()\n",
    "    if ret:\n",
    "      frame = format_frames(frame, output_size)\n",
    "      result.append(frame)\n",
    "    else:\n",
    "      result.append(np.zeros_like(result[0]))\n",
    "  src.release()\n",
    "  result = np.array(result)[..., [2, 1, 0]]\n",
    "\n",
    "  return result"
   ]
  },
  {
   "cell_type": "code",
   "execution_count": 18,
   "metadata": {},
   "outputs": [],
   "source": [
    "video_path=train_data['url'][1]"
   ]
  },
  {
   "cell_type": "code",
   "execution_count": 19,
   "metadata": {},
   "outputs": [
    {
     "ename": "NameError",
     "evalue": "name 'cv2' is not defined",
     "output_type": "error",
     "traceback": [
      "\u001b[1;31m---------------------------------------------------------------------------\u001b[0m",
      "\u001b[1;31mNameError\u001b[0m                                 Traceback (most recent call last)",
      "Cell \u001b[1;32mIn[19], line 1\u001b[0m\n\u001b[1;32m----> 1\u001b[0m sample_video \u001b[39m=\u001b[39m frames_from_video_file(video_path, n_frames \u001b[39m=\u001b[39;49m \u001b[39m10\u001b[39;49m)\n\u001b[0;32m      2\u001b[0m sample_video\u001b[39m.\u001b[39mshape\n",
      "Cell \u001b[1;32mIn[17], line 15\u001b[0m, in \u001b[0;36mframes_from_video_file\u001b[1;34m(video_path, n_frames, output_size, frame_step)\u001b[0m\n\u001b[0;32m     13\u001b[0m \u001b[39m# Read each video frame by frame\u001b[39;00m\n\u001b[0;32m     14\u001b[0m result \u001b[39m=\u001b[39m []\n\u001b[1;32m---> 15\u001b[0m src \u001b[39m=\u001b[39m cv2\u001b[39m.\u001b[39mVideoCapture(\u001b[39mstr\u001b[39m(video_path))  \n\u001b[0;32m     17\u001b[0m video_length \u001b[39m=\u001b[39m src\u001b[39m.\u001b[39mget(cv2\u001b[39m.\u001b[39mCAP_PROP_FRAME_COUNT)\n\u001b[0;32m     19\u001b[0m need_length \u001b[39m=\u001b[39m \u001b[39m1\u001b[39m \u001b[39m+\u001b[39m (n_frames \u001b[39m-\u001b[39m \u001b[39m1\u001b[39m) \u001b[39m*\u001b[39m frame_step\n",
      "\u001b[1;31mNameError\u001b[0m: name 'cv2' is not defined"
     ]
    }
   ],
   "source": [
    "sample_video = frames_from_video_file(video_path, n_frames = 10)\n",
    "sample_video.shape"
   ]
  }
 ],
 "metadata": {
  "kernelspec": {
   "display_name": "ia",
   "language": "python",
   "name": "python3"
  },
  "language_info": {
   "codemirror_mode": {
    "name": "ipython",
    "version": 3
   },
   "file_extension": ".py",
   "mimetype": "text/x-python",
   "name": "python",
   "nbconvert_exporter": "python",
   "pygments_lexer": "ipython3",
   "version": "3.10.10"
  },
  "orig_nbformat": 4
 },
 "nbformat": 4,
 "nbformat_minor": 2
}
