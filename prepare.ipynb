{
  "cells": [
    {
      "cell_type": "markdown",
      "metadata": {
        "id": "view-in-github",
        "colab_type": "text"
      },
      "source": [
        "<a href=\"https://colab.research.google.com/github/cc-ca/Human_action_understanding/blob/cnn-rnn/prepare.ipynb\" target=\"_parent\"><img src=\"https://colab.research.google.com/assets/colab-badge.svg\" alt=\"Open In Colab\"/></a>"
      ]
    },
    {
      "cell_type": "markdown",
      "metadata": {
        "id": "wGt08k1sar_R"
      },
      "source": [
        "#PACKAGES SETUP"
      ]
    },
    {
      "cell_type": "code",
      "execution_count": 79,
      "metadata": {
        "colab": {
          "base_uri": "https://localhost:8080/"
        },
        "id": "xNgAY3w3PBbP",
        "outputId": "c4865dc3-5546-4b58-cd30-13e92f3e9ec8"
      },
      "outputs": [
        {
          "output_type": "stream",
          "name": "stdout",
          "text": [
            "  Preparing metadata (setup.py) ... \u001b[?25l\u001b[?25hdone\n"
          ]
        }
      ],
      "source": [
        "!pip install -q git+https://github.com/tensorflow/docs "
      ]
    },
    {
      "cell_type": "code",
      "execution_count": 80,
      "metadata": {
        "id": "SK5n3ZbfNwrr"
      },
      "outputs": [],
      "source": [
        "from os import listdir\n",
        "from os.path import isfile, join\n",
        "import pandas as pd\n",
        "import tensorflow as tf\n",
        "import cv2\n",
        "import random\n",
        "import numpy as np\n",
        "import imageio\n",
        "from tensorflow_docs.vis import embed\n",
        "from pathlib import Path"
      ]
    },
    {
      "cell_type": "markdown",
      "metadata": {
        "id": "rZJtHMO0a8Yy"
      },
      "source": [
        "#IMPORT THE DATASET"
      ]
    },
    {
      "cell_type": "code",
      "execution_count": 81,
      "metadata": {
        "colab": {
          "base_uri": "https://localhost:8080/"
        },
        "id": "KlqFULqFN__I",
        "outputId": "311c8d52-a832-4e56-e2bb-ece7eb81f5ac"
      },
      "outputs": [
        {
          "output_type": "stream",
          "name": "stdout",
          "text": [
            "Mounted at /content/drive\n"
          ]
        }
      ],
      "source": [
        "from google.colab import drive\n",
        "drive.mount('/content/drive', force_remount=True)"
      ]
    },
    {
      "cell_type": "code",
      "execution_count": 82,
      "metadata": {
        "id": "FUIBzkiiNwrt"
      },
      "outputs": [],
      "source": [
        "#specify the path to the dataset\n",
        "traindir = r\"/content/drive/MyDrive/dataset/train\"\n",
        "valdir = r\"/content/drive/MyDrive/dataset/val\"\n",
        "## Data preparation"
      ]
    },
    {
      "cell_type": "code",
      "execution_count": 83,
      "metadata": {
        "id": "hd-6LIUTNwru"
      },
      "outputs": [],
      "source": [
        "def extract_url_labels(dir):\n",
        "    #create an empty pandas dataframe\n",
        "    df = pd.DataFrame({'url': [], 'label': []})\n",
        "    actions_dir = listdir(dir)\n",
        "    for tmpdir in actions_dir:\n",
        "        print(tmpdir)\n",
        "        Lfiles = listdir(dir+\"/\"+tmpdir)\n",
        "        #print(Lfiles)\n",
        "        for video in Lfiles:\n",
        "            df.loc[len(df)] = [dir + \"/\"+ tmpdir +\"/\"+ video, tmpdir]\n",
        "    return(df)\n"
      ]
    },
    {
      "cell_type": "code",
      "execution_count": 84,
      "metadata": {
        "colab": {
          "base_uri": "https://localhost:8080/",
          "height": 666
        },
        "id": "yVYvzjOENwru",
        "outputId": "8e2acbf4-05ef-4034-e7d4-09cbc15186b5"
      },
      "outputs": [
        {
          "output_type": "stream",
          "name": "stdout",
          "text": [
            "applauding\n",
            "cleaning toilet\n",
            "doing nails\n",
            "opening bottle (not wine)\n",
            "petting cat\n",
            "pillow fight\n",
            "smoking\n",
            "playing guitar\n",
            "washing dishes\n",
            "playing cards\n",
            "stretching arm\n",
            "vacuuming floor\n",
            "variables\n",
            "assets\n"
          ]
        },
        {
          "output_type": "execute_result",
          "data": {
            "text/plain": [
              "                                                    url            label\n",
              "0     /content/drive/MyDrive/dataset/train/applaudin...       applauding\n",
              "1     /content/drive/MyDrive/dataset/train/applaudin...       applauding\n",
              "2     /content/drive/MyDrive/dataset/train/applaudin...       applauding\n",
              "3     /content/drive/MyDrive/dataset/train/applaudin...       applauding\n",
              "4     /content/drive/MyDrive/dataset/train/applaudin...       applauding\n",
              "...                                                 ...              ...\n",
              "9675  /content/drive/MyDrive/dataset/train/vacuuming...  vacuuming floor\n",
              "9676  /content/drive/MyDrive/dataset/train/vacuuming...  vacuuming floor\n",
              "9677  /content/drive/MyDrive/dataset/train/vacuuming...  vacuuming floor\n",
              "9678  /content/drive/MyDrive/dataset/train/variables...        variables\n",
              "9679  /content/drive/MyDrive/dataset/train/variables...        variables\n",
              "\n",
              "[9680 rows x 2 columns]"
            ],
            "text/html": [
              "\n",
              "  <div id=\"df-52d1df33-ea06-4a6e-9a7d-10a93d003bdc\">\n",
              "    <div class=\"colab-df-container\">\n",
              "      <div>\n",
              "<style scoped>\n",
              "    .dataframe tbody tr th:only-of-type {\n",
              "        vertical-align: middle;\n",
              "    }\n",
              "\n",
              "    .dataframe tbody tr th {\n",
              "        vertical-align: top;\n",
              "    }\n",
              "\n",
              "    .dataframe thead th {\n",
              "        text-align: right;\n",
              "    }\n",
              "</style>\n",
              "<table border=\"1\" class=\"dataframe\">\n",
              "  <thead>\n",
              "    <tr style=\"text-align: right;\">\n",
              "      <th></th>\n",
              "      <th>url</th>\n",
              "      <th>label</th>\n",
              "    </tr>\n",
              "  </thead>\n",
              "  <tbody>\n",
              "    <tr>\n",
              "      <th>0</th>\n",
              "      <td>/content/drive/MyDrive/dataset/train/applaudin...</td>\n",
              "      <td>applauding</td>\n",
              "    </tr>\n",
              "    <tr>\n",
              "      <th>1</th>\n",
              "      <td>/content/drive/MyDrive/dataset/train/applaudin...</td>\n",
              "      <td>applauding</td>\n",
              "    </tr>\n",
              "    <tr>\n",
              "      <th>2</th>\n",
              "      <td>/content/drive/MyDrive/dataset/train/applaudin...</td>\n",
              "      <td>applauding</td>\n",
              "    </tr>\n",
              "    <tr>\n",
              "      <th>3</th>\n",
              "      <td>/content/drive/MyDrive/dataset/train/applaudin...</td>\n",
              "      <td>applauding</td>\n",
              "    </tr>\n",
              "    <tr>\n",
              "      <th>4</th>\n",
              "      <td>/content/drive/MyDrive/dataset/train/applaudin...</td>\n",
              "      <td>applauding</td>\n",
              "    </tr>\n",
              "    <tr>\n",
              "      <th>...</th>\n",
              "      <td>...</td>\n",
              "      <td>...</td>\n",
              "    </tr>\n",
              "    <tr>\n",
              "      <th>9675</th>\n",
              "      <td>/content/drive/MyDrive/dataset/train/vacuuming...</td>\n",
              "      <td>vacuuming floor</td>\n",
              "    </tr>\n",
              "    <tr>\n",
              "      <th>9676</th>\n",
              "      <td>/content/drive/MyDrive/dataset/train/vacuuming...</td>\n",
              "      <td>vacuuming floor</td>\n",
              "    </tr>\n",
              "    <tr>\n",
              "      <th>9677</th>\n",
              "      <td>/content/drive/MyDrive/dataset/train/vacuuming...</td>\n",
              "      <td>vacuuming floor</td>\n",
              "    </tr>\n",
              "    <tr>\n",
              "      <th>9678</th>\n",
              "      <td>/content/drive/MyDrive/dataset/train/variables...</td>\n",
              "      <td>variables</td>\n",
              "    </tr>\n",
              "    <tr>\n",
              "      <th>9679</th>\n",
              "      <td>/content/drive/MyDrive/dataset/train/variables...</td>\n",
              "      <td>variables</td>\n",
              "    </tr>\n",
              "  </tbody>\n",
              "</table>\n",
              "<p>9680 rows × 2 columns</p>\n",
              "</div>\n",
              "      <button class=\"colab-df-convert\" onclick=\"convertToInteractive('df-52d1df33-ea06-4a6e-9a7d-10a93d003bdc')\"\n",
              "              title=\"Convert this dataframe to an interactive table.\"\n",
              "              style=\"display:none;\">\n",
              "        \n",
              "  <svg xmlns=\"http://www.w3.org/2000/svg\" height=\"24px\"viewBox=\"0 0 24 24\"\n",
              "       width=\"24px\">\n",
              "    <path d=\"M0 0h24v24H0V0z\" fill=\"none\"/>\n",
              "    <path d=\"M18.56 5.44l.94 2.06.94-2.06 2.06-.94-2.06-.94-.94-2.06-.94 2.06-2.06.94zm-11 1L8.5 8.5l.94-2.06 2.06-.94-2.06-.94L8.5 2.5l-.94 2.06-2.06.94zm10 10l.94 2.06.94-2.06 2.06-.94-2.06-.94-.94-2.06-.94 2.06-2.06.94z\"/><path d=\"M17.41 7.96l-1.37-1.37c-.4-.4-.92-.59-1.43-.59-.52 0-1.04.2-1.43.59L10.3 9.45l-7.72 7.72c-.78.78-.78 2.05 0 2.83L4 21.41c.39.39.9.59 1.41.59.51 0 1.02-.2 1.41-.59l7.78-7.78 2.81-2.81c.8-.78.8-2.07 0-2.86zM5.41 20L4 18.59l7.72-7.72 1.47 1.35L5.41 20z\"/>\n",
              "  </svg>\n",
              "      </button>\n",
              "      \n",
              "  <style>\n",
              "    .colab-df-container {\n",
              "      display:flex;\n",
              "      flex-wrap:wrap;\n",
              "      gap: 12px;\n",
              "    }\n",
              "\n",
              "    .colab-df-convert {\n",
              "      background-color: #E8F0FE;\n",
              "      border: none;\n",
              "      border-radius: 50%;\n",
              "      cursor: pointer;\n",
              "      display: none;\n",
              "      fill: #1967D2;\n",
              "      height: 32px;\n",
              "      padding: 0 0 0 0;\n",
              "      width: 32px;\n",
              "    }\n",
              "\n",
              "    .colab-df-convert:hover {\n",
              "      background-color: #E2EBFA;\n",
              "      box-shadow: 0px 1px 2px rgba(60, 64, 67, 0.3), 0px 1px 3px 1px rgba(60, 64, 67, 0.15);\n",
              "      fill: #174EA6;\n",
              "    }\n",
              "\n",
              "    [theme=dark] .colab-df-convert {\n",
              "      background-color: #3B4455;\n",
              "      fill: #D2E3FC;\n",
              "    }\n",
              "\n",
              "    [theme=dark] .colab-df-convert:hover {\n",
              "      background-color: #434B5C;\n",
              "      box-shadow: 0px 1px 3px 1px rgba(0, 0, 0, 0.15);\n",
              "      filter: drop-shadow(0px 1px 2px rgba(0, 0, 0, 0.3));\n",
              "      fill: #FFFFFF;\n",
              "    }\n",
              "  </style>\n",
              "\n",
              "      <script>\n",
              "        const buttonEl =\n",
              "          document.querySelector('#df-52d1df33-ea06-4a6e-9a7d-10a93d003bdc button.colab-df-convert');\n",
              "        buttonEl.style.display =\n",
              "          google.colab.kernel.accessAllowed ? 'block' : 'none';\n",
              "\n",
              "        async function convertToInteractive(key) {\n",
              "          const element = document.querySelector('#df-52d1df33-ea06-4a6e-9a7d-10a93d003bdc');\n",
              "          const dataTable =\n",
              "            await google.colab.kernel.invokeFunction('convertToInteractive',\n",
              "                                                     [key], {});\n",
              "          if (!dataTable) return;\n",
              "\n",
              "          const docLinkHtml = 'Like what you see? Visit the ' +\n",
              "            '<a target=\"_blank\" href=https://colab.research.google.com/notebooks/data_table.ipynb>data table notebook</a>'\n",
              "            + ' to learn more about interactive tables.';\n",
              "          element.innerHTML = '';\n",
              "          dataTable['output_type'] = 'display_data';\n",
              "          await google.colab.output.renderOutput(dataTable, element);\n",
              "          const docLink = document.createElement('div');\n",
              "          docLink.innerHTML = docLinkHtml;\n",
              "          element.appendChild(docLink);\n",
              "        }\n",
              "      </script>\n",
              "    </div>\n",
              "  </div>\n",
              "  "
            ]
          },
          "metadata": {},
          "execution_count": 84
        }
      ],
      "source": [
        "train_data =extract_url_labels(traindir)\n",
        "train_data\n"
      ]
    },
    {
      "cell_type": "code",
      "execution_count": 85,
      "metadata": {
        "colab": {
          "base_uri": "https://localhost:8080/",
          "height": 632
        },
        "id": "taDz3Y07Nwrv",
        "outputId": "d232de13-5f8e-4104-a507-fef4f06baf6c"
      },
      "outputs": [
        {
          "output_type": "stream",
          "name": "stdout",
          "text": [
            "smoking\n",
            "playing cards\n",
            "pillow fight\n",
            "washing dishes\n",
            "applauding\n",
            "stretching arm\n",
            "opening bottle (not wine)\n",
            "cleaning toilet\n",
            "petting cat\n",
            "vacuuming floor\n",
            "doing nails\n",
            "playing guitar\n"
          ]
        },
        {
          "output_type": "execute_result",
          "data": {
            "text/plain": [
              "                                                   url           label\n",
              "0    /content/drive/MyDrive/dataset/val/smoking/2sM...         smoking\n",
              "1    /content/drive/MyDrive/dataset/val/smoking/zGG...         smoking\n",
              "2    /content/drive/MyDrive/dataset/val/smoking/-uB...         smoking\n",
              "3    /content/drive/MyDrive/dataset/val/smoking/2fR...         smoking\n",
              "4    /content/drive/MyDrive/dataset/val/smoking/1Dp...         smoking\n",
              "..                                                 ...             ...\n",
              "575  /content/drive/MyDrive/dataset/val/playing gui...  playing guitar\n",
              "576  /content/drive/MyDrive/dataset/val/playing gui...  playing guitar\n",
              "577  /content/drive/MyDrive/dataset/val/playing gui...  playing guitar\n",
              "578  /content/drive/MyDrive/dataset/val/playing gui...  playing guitar\n",
              "579  /content/drive/MyDrive/dataset/val/playing gui...  playing guitar\n",
              "\n",
              "[580 rows x 2 columns]"
            ],
            "text/html": [
              "\n",
              "  <div id=\"df-19e5c370-063b-4450-a423-cbf966116208\">\n",
              "    <div class=\"colab-df-container\">\n",
              "      <div>\n",
              "<style scoped>\n",
              "    .dataframe tbody tr th:only-of-type {\n",
              "        vertical-align: middle;\n",
              "    }\n",
              "\n",
              "    .dataframe tbody tr th {\n",
              "        vertical-align: top;\n",
              "    }\n",
              "\n",
              "    .dataframe thead th {\n",
              "        text-align: right;\n",
              "    }\n",
              "</style>\n",
              "<table border=\"1\" class=\"dataframe\">\n",
              "  <thead>\n",
              "    <tr style=\"text-align: right;\">\n",
              "      <th></th>\n",
              "      <th>url</th>\n",
              "      <th>label</th>\n",
              "    </tr>\n",
              "  </thead>\n",
              "  <tbody>\n",
              "    <tr>\n",
              "      <th>0</th>\n",
              "      <td>/content/drive/MyDrive/dataset/val/smoking/2sM...</td>\n",
              "      <td>smoking</td>\n",
              "    </tr>\n",
              "    <tr>\n",
              "      <th>1</th>\n",
              "      <td>/content/drive/MyDrive/dataset/val/smoking/zGG...</td>\n",
              "      <td>smoking</td>\n",
              "    </tr>\n",
              "    <tr>\n",
              "      <th>2</th>\n",
              "      <td>/content/drive/MyDrive/dataset/val/smoking/-uB...</td>\n",
              "      <td>smoking</td>\n",
              "    </tr>\n",
              "    <tr>\n",
              "      <th>3</th>\n",
              "      <td>/content/drive/MyDrive/dataset/val/smoking/2fR...</td>\n",
              "      <td>smoking</td>\n",
              "    </tr>\n",
              "    <tr>\n",
              "      <th>4</th>\n",
              "      <td>/content/drive/MyDrive/dataset/val/smoking/1Dp...</td>\n",
              "      <td>smoking</td>\n",
              "    </tr>\n",
              "    <tr>\n",
              "      <th>...</th>\n",
              "      <td>...</td>\n",
              "      <td>...</td>\n",
              "    </tr>\n",
              "    <tr>\n",
              "      <th>575</th>\n",
              "      <td>/content/drive/MyDrive/dataset/val/playing gui...</td>\n",
              "      <td>playing guitar</td>\n",
              "    </tr>\n",
              "    <tr>\n",
              "      <th>576</th>\n",
              "      <td>/content/drive/MyDrive/dataset/val/playing gui...</td>\n",
              "      <td>playing guitar</td>\n",
              "    </tr>\n",
              "    <tr>\n",
              "      <th>577</th>\n",
              "      <td>/content/drive/MyDrive/dataset/val/playing gui...</td>\n",
              "      <td>playing guitar</td>\n",
              "    </tr>\n",
              "    <tr>\n",
              "      <th>578</th>\n",
              "      <td>/content/drive/MyDrive/dataset/val/playing gui...</td>\n",
              "      <td>playing guitar</td>\n",
              "    </tr>\n",
              "    <tr>\n",
              "      <th>579</th>\n",
              "      <td>/content/drive/MyDrive/dataset/val/playing gui...</td>\n",
              "      <td>playing guitar</td>\n",
              "    </tr>\n",
              "  </tbody>\n",
              "</table>\n",
              "<p>580 rows × 2 columns</p>\n",
              "</div>\n",
              "      <button class=\"colab-df-convert\" onclick=\"convertToInteractive('df-19e5c370-063b-4450-a423-cbf966116208')\"\n",
              "              title=\"Convert this dataframe to an interactive table.\"\n",
              "              style=\"display:none;\">\n",
              "        \n",
              "  <svg xmlns=\"http://www.w3.org/2000/svg\" height=\"24px\"viewBox=\"0 0 24 24\"\n",
              "       width=\"24px\">\n",
              "    <path d=\"M0 0h24v24H0V0z\" fill=\"none\"/>\n",
              "    <path d=\"M18.56 5.44l.94 2.06.94-2.06 2.06-.94-2.06-.94-.94-2.06-.94 2.06-2.06.94zm-11 1L8.5 8.5l.94-2.06 2.06-.94-2.06-.94L8.5 2.5l-.94 2.06-2.06.94zm10 10l.94 2.06.94-2.06 2.06-.94-2.06-.94-.94-2.06-.94 2.06-2.06.94z\"/><path d=\"M17.41 7.96l-1.37-1.37c-.4-.4-.92-.59-1.43-.59-.52 0-1.04.2-1.43.59L10.3 9.45l-7.72 7.72c-.78.78-.78 2.05 0 2.83L4 21.41c.39.39.9.59 1.41.59.51 0 1.02-.2 1.41-.59l7.78-7.78 2.81-2.81c.8-.78.8-2.07 0-2.86zM5.41 20L4 18.59l7.72-7.72 1.47 1.35L5.41 20z\"/>\n",
              "  </svg>\n",
              "      </button>\n",
              "      \n",
              "  <style>\n",
              "    .colab-df-container {\n",
              "      display:flex;\n",
              "      flex-wrap:wrap;\n",
              "      gap: 12px;\n",
              "    }\n",
              "\n",
              "    .colab-df-convert {\n",
              "      background-color: #E8F0FE;\n",
              "      border: none;\n",
              "      border-radius: 50%;\n",
              "      cursor: pointer;\n",
              "      display: none;\n",
              "      fill: #1967D2;\n",
              "      height: 32px;\n",
              "      padding: 0 0 0 0;\n",
              "      width: 32px;\n",
              "    }\n",
              "\n",
              "    .colab-df-convert:hover {\n",
              "      background-color: #E2EBFA;\n",
              "      box-shadow: 0px 1px 2px rgba(60, 64, 67, 0.3), 0px 1px 3px 1px rgba(60, 64, 67, 0.15);\n",
              "      fill: #174EA6;\n",
              "    }\n",
              "\n",
              "    [theme=dark] .colab-df-convert {\n",
              "      background-color: #3B4455;\n",
              "      fill: #D2E3FC;\n",
              "    }\n",
              "\n",
              "    [theme=dark] .colab-df-convert:hover {\n",
              "      background-color: #434B5C;\n",
              "      box-shadow: 0px 1px 3px 1px rgba(0, 0, 0, 0.15);\n",
              "      filter: drop-shadow(0px 1px 2px rgba(0, 0, 0, 0.3));\n",
              "      fill: #FFFFFF;\n",
              "    }\n",
              "  </style>\n",
              "\n",
              "      <script>\n",
              "        const buttonEl =\n",
              "          document.querySelector('#df-19e5c370-063b-4450-a423-cbf966116208 button.colab-df-convert');\n",
              "        buttonEl.style.display =\n",
              "          google.colab.kernel.accessAllowed ? 'block' : 'none';\n",
              "\n",
              "        async function convertToInteractive(key) {\n",
              "          const element = document.querySelector('#df-19e5c370-063b-4450-a423-cbf966116208');\n",
              "          const dataTable =\n",
              "            await google.colab.kernel.invokeFunction('convertToInteractive',\n",
              "                                                     [key], {});\n",
              "          if (!dataTable) return;\n",
              "\n",
              "          const docLinkHtml = 'Like what you see? Visit the ' +\n",
              "            '<a target=\"_blank\" href=https://colab.research.google.com/notebooks/data_table.ipynb>data table notebook</a>'\n",
              "            + ' to learn more about interactive tables.';\n",
              "          element.innerHTML = '';\n",
              "          dataTable['output_type'] = 'display_data';\n",
              "          await google.colab.output.renderOutput(dataTable, element);\n",
              "          const docLink = document.createElement('div');\n",
              "          docLink.innerHTML = docLinkHtml;\n",
              "          element.appendChild(docLink);\n",
              "        }\n",
              "      </script>\n",
              "    </div>\n",
              "  </div>\n",
              "  "
            ]
          },
          "metadata": {},
          "execution_count": 85
        }
      ],
      "source": [
        "val_data = extract_url_labels(valdir)\n",
        "val_data"
      ]
    },
    {
      "cell_type": "code",
      "execution_count": 86,
      "metadata": {
        "colab": {
          "base_uri": "https://localhost:8080/"
        },
        "id": "fVmNeW3Rb1KI",
        "outputId": "66f3279c-c702-4e73-c306-ea3d9a5ff041"
      },
      "outputs": [
        {
          "output_type": "stream",
          "name": "stdout",
          "text": [
            "nobre de vidéos au total (train+validation) : 10260\n"
          ]
        }
      ],
      "source": [
        "print(\"nobre de vidéos au total (train+validation) : \"+ str(len(train_data)+len(val_data)))"
      ]
    },
    {
      "cell_type": "markdown",
      "metadata": {
        "id": "TSN8id7jbf7v"
      },
      "source": [
        "#Data preparation"
      ]
    },
    {
      "cell_type": "markdown",
      "metadata": {
        "id": "Go9UXoJDbtLW"
      },
      "source": [
        "##Shufffle"
      ]
    },
    {
      "cell_type": "markdown",
      "metadata": {
        "id": "2AZ5X6XWbjDO"
      },
      "source": [
        "first, we shuffle the videos to make shure we are training evenly for each labels"
      ]
    },
    {
      "cell_type": "code",
      "execution_count": 87,
      "metadata": {
        "colab": {
          "base_uri": "https://localhost:8080/",
          "height": 0
        },
        "id": "ZTawV3gENwrv",
        "outputId": "8b7b437d-4da9-4ae6-9641-0cf94a52dc41"
      },
      "outputs": [
        {
          "output_type": "execute_result",
          "data": {
            "text/plain": [
              "                                                    url  \\\n",
              "0     /content/drive/MyDrive/dataset/train/opening b...   \n",
              "1     /content/drive/MyDrive/dataset/train/pillow fi...   \n",
              "2     /content/drive/MyDrive/dataset/train/vacuuming...   \n",
              "3     /content/drive/MyDrive/dataset/train/cleaning ...   \n",
              "4     /content/drive/MyDrive/dataset/train/doing nai...   \n",
              "...                                                 ...   \n",
              "9675  /content/drive/MyDrive/dataset/train/washing d...   \n",
              "9676  /content/drive/MyDrive/dataset/train/playing c...   \n",
              "9677  /content/drive/MyDrive/dataset/train/vacuuming...   \n",
              "9678  /content/drive/MyDrive/dataset/train/pillow fi...   \n",
              "9679  /content/drive/MyDrive/dataset/train/opening b...   \n",
              "\n",
              "                          label  \n",
              "0     opening bottle (not wine)  \n",
              "1                  pillow fight  \n",
              "2               vacuuming floor  \n",
              "3               cleaning toilet  \n",
              "4                   doing nails  \n",
              "...                         ...  \n",
              "9675             washing dishes  \n",
              "9676              playing cards  \n",
              "9677            vacuuming floor  \n",
              "9678               pillow fight  \n",
              "9679  opening bottle (not wine)  \n",
              "\n",
              "[9680 rows x 2 columns]"
            ],
            "text/html": [
              "\n",
              "  <div id=\"df-c6d9403f-739a-415d-a1cd-181031ea5e56\">\n",
              "    <div class=\"colab-df-container\">\n",
              "      <div>\n",
              "<style scoped>\n",
              "    .dataframe tbody tr th:only-of-type {\n",
              "        vertical-align: middle;\n",
              "    }\n",
              "\n",
              "    .dataframe tbody tr th {\n",
              "        vertical-align: top;\n",
              "    }\n",
              "\n",
              "    .dataframe thead th {\n",
              "        text-align: right;\n",
              "    }\n",
              "</style>\n",
              "<table border=\"1\" class=\"dataframe\">\n",
              "  <thead>\n",
              "    <tr style=\"text-align: right;\">\n",
              "      <th></th>\n",
              "      <th>url</th>\n",
              "      <th>label</th>\n",
              "    </tr>\n",
              "  </thead>\n",
              "  <tbody>\n",
              "    <tr>\n",
              "      <th>0</th>\n",
              "      <td>/content/drive/MyDrive/dataset/train/opening b...</td>\n",
              "      <td>opening bottle (not wine)</td>\n",
              "    </tr>\n",
              "    <tr>\n",
              "      <th>1</th>\n",
              "      <td>/content/drive/MyDrive/dataset/train/pillow fi...</td>\n",
              "      <td>pillow fight</td>\n",
              "    </tr>\n",
              "    <tr>\n",
              "      <th>2</th>\n",
              "      <td>/content/drive/MyDrive/dataset/train/vacuuming...</td>\n",
              "      <td>vacuuming floor</td>\n",
              "    </tr>\n",
              "    <tr>\n",
              "      <th>3</th>\n",
              "      <td>/content/drive/MyDrive/dataset/train/cleaning ...</td>\n",
              "      <td>cleaning toilet</td>\n",
              "    </tr>\n",
              "    <tr>\n",
              "      <th>4</th>\n",
              "      <td>/content/drive/MyDrive/dataset/train/doing nai...</td>\n",
              "      <td>doing nails</td>\n",
              "    </tr>\n",
              "    <tr>\n",
              "      <th>...</th>\n",
              "      <td>...</td>\n",
              "      <td>...</td>\n",
              "    </tr>\n",
              "    <tr>\n",
              "      <th>9675</th>\n",
              "      <td>/content/drive/MyDrive/dataset/train/washing d...</td>\n",
              "      <td>washing dishes</td>\n",
              "    </tr>\n",
              "    <tr>\n",
              "      <th>9676</th>\n",
              "      <td>/content/drive/MyDrive/dataset/train/playing c...</td>\n",
              "      <td>playing cards</td>\n",
              "    </tr>\n",
              "    <tr>\n",
              "      <th>9677</th>\n",
              "      <td>/content/drive/MyDrive/dataset/train/vacuuming...</td>\n",
              "      <td>vacuuming floor</td>\n",
              "    </tr>\n",
              "    <tr>\n",
              "      <th>9678</th>\n",
              "      <td>/content/drive/MyDrive/dataset/train/pillow fi...</td>\n",
              "      <td>pillow fight</td>\n",
              "    </tr>\n",
              "    <tr>\n",
              "      <th>9679</th>\n",
              "      <td>/content/drive/MyDrive/dataset/train/opening b...</td>\n",
              "      <td>opening bottle (not wine)</td>\n",
              "    </tr>\n",
              "  </tbody>\n",
              "</table>\n",
              "<p>9680 rows × 2 columns</p>\n",
              "</div>\n",
              "      <button class=\"colab-df-convert\" onclick=\"convertToInteractive('df-c6d9403f-739a-415d-a1cd-181031ea5e56')\"\n",
              "              title=\"Convert this dataframe to an interactive table.\"\n",
              "              style=\"display:none;\">\n",
              "        \n",
              "  <svg xmlns=\"http://www.w3.org/2000/svg\" height=\"24px\"viewBox=\"0 0 24 24\"\n",
              "       width=\"24px\">\n",
              "    <path d=\"M0 0h24v24H0V0z\" fill=\"none\"/>\n",
              "    <path d=\"M18.56 5.44l.94 2.06.94-2.06 2.06-.94-2.06-.94-.94-2.06-.94 2.06-2.06.94zm-11 1L8.5 8.5l.94-2.06 2.06-.94-2.06-.94L8.5 2.5l-.94 2.06-2.06.94zm10 10l.94 2.06.94-2.06 2.06-.94-2.06-.94-.94-2.06-.94 2.06-2.06.94z\"/><path d=\"M17.41 7.96l-1.37-1.37c-.4-.4-.92-.59-1.43-.59-.52 0-1.04.2-1.43.59L10.3 9.45l-7.72 7.72c-.78.78-.78 2.05 0 2.83L4 21.41c.39.39.9.59 1.41.59.51 0 1.02-.2 1.41-.59l7.78-7.78 2.81-2.81c.8-.78.8-2.07 0-2.86zM5.41 20L4 18.59l7.72-7.72 1.47 1.35L5.41 20z\"/>\n",
              "  </svg>\n",
              "      </button>\n",
              "      \n",
              "  <style>\n",
              "    .colab-df-container {\n",
              "      display:flex;\n",
              "      flex-wrap:wrap;\n",
              "      gap: 12px;\n",
              "    }\n",
              "\n",
              "    .colab-df-convert {\n",
              "      background-color: #E8F0FE;\n",
              "      border: none;\n",
              "      border-radius: 50%;\n",
              "      cursor: pointer;\n",
              "      display: none;\n",
              "      fill: #1967D2;\n",
              "      height: 32px;\n",
              "      padding: 0 0 0 0;\n",
              "      width: 32px;\n",
              "    }\n",
              "\n",
              "    .colab-df-convert:hover {\n",
              "      background-color: #E2EBFA;\n",
              "      box-shadow: 0px 1px 2px rgba(60, 64, 67, 0.3), 0px 1px 3px 1px rgba(60, 64, 67, 0.15);\n",
              "      fill: #174EA6;\n",
              "    }\n",
              "\n",
              "    [theme=dark] .colab-df-convert {\n",
              "      background-color: #3B4455;\n",
              "      fill: #D2E3FC;\n",
              "    }\n",
              "\n",
              "    [theme=dark] .colab-df-convert:hover {\n",
              "      background-color: #434B5C;\n",
              "      box-shadow: 0px 1px 3px 1px rgba(0, 0, 0, 0.15);\n",
              "      filter: drop-shadow(0px 1px 2px rgba(0, 0, 0, 0.3));\n",
              "      fill: #FFFFFF;\n",
              "    }\n",
              "  </style>\n",
              "\n",
              "      <script>\n",
              "        const buttonEl =\n",
              "          document.querySelector('#df-c6d9403f-739a-415d-a1cd-181031ea5e56 button.colab-df-convert');\n",
              "        buttonEl.style.display =\n",
              "          google.colab.kernel.accessAllowed ? 'block' : 'none';\n",
              "\n",
              "        async function convertToInteractive(key) {\n",
              "          const element = document.querySelector('#df-c6d9403f-739a-415d-a1cd-181031ea5e56');\n",
              "          const dataTable =\n",
              "            await google.colab.kernel.invokeFunction('convertToInteractive',\n",
              "                                                     [key], {});\n",
              "          if (!dataTable) return;\n",
              "\n",
              "          const docLinkHtml = 'Like what you see? Visit the ' +\n",
              "            '<a target=\"_blank\" href=https://colab.research.google.com/notebooks/data_table.ipynb>data table notebook</a>'\n",
              "            + ' to learn more about interactive tables.';\n",
              "          element.innerHTML = '';\n",
              "          dataTable['output_type'] = 'display_data';\n",
              "          await google.colab.output.renderOutput(dataTable, element);\n",
              "          const docLink = document.createElement('div');\n",
              "          docLink.innerHTML = docLinkHtml;\n",
              "          element.appendChild(docLink);\n",
              "        }\n",
              "      </script>\n",
              "    </div>\n",
              "  </div>\n",
              "  "
            ]
          },
          "metadata": {},
          "execution_count": 87
        }
      ],
      "source": [
        "train_data=train_data.sample(frac=1).reset_index(drop=True)\n",
        "train_data"
      ]
    },
    {
      "cell_type": "code",
      "execution_count": 88,
      "metadata": {
        "colab": {
          "base_uri": "https://localhost:8080/",
          "height": 0
        },
        "id": "33jmQy4ZNwrw",
        "outputId": "75543e1f-e3df-496e-9edd-15ffd0af19eb"
      },
      "outputs": [
        {
          "output_type": "execute_result",
          "data": {
            "text/plain": [
              "                                                   url  \\\n",
              "0    /content/drive/MyDrive/dataset/val/cleaning to...   \n",
              "1    /content/drive/MyDrive/dataset/val/applauding/...   \n",
              "2    /content/drive/MyDrive/dataset/val/washing dis...   \n",
              "3    /content/drive/MyDrive/dataset/val/cleaning to...   \n",
              "4    /content/drive/MyDrive/dataset/val/opening bot...   \n",
              "..                                                 ...   \n",
              "575  /content/drive/MyDrive/dataset/val/smoking/2sM...   \n",
              "576  /content/drive/MyDrive/dataset/val/playing gui...   \n",
              "577  /content/drive/MyDrive/dataset/val/petting cat...   \n",
              "578  /content/drive/MyDrive/dataset/val/playing car...   \n",
              "579  /content/drive/MyDrive/dataset/val/playing gui...   \n",
              "\n",
              "                         label  \n",
              "0              cleaning toilet  \n",
              "1                   applauding  \n",
              "2               washing dishes  \n",
              "3              cleaning toilet  \n",
              "4    opening bottle (not wine)  \n",
              "..                         ...  \n",
              "575                    smoking  \n",
              "576             playing guitar  \n",
              "577                petting cat  \n",
              "578              playing cards  \n",
              "579             playing guitar  \n",
              "\n",
              "[580 rows x 2 columns]"
            ],
            "text/html": [
              "\n",
              "  <div id=\"df-a8286c47-4ec1-42e5-8586-c12346962b78\">\n",
              "    <div class=\"colab-df-container\">\n",
              "      <div>\n",
              "<style scoped>\n",
              "    .dataframe tbody tr th:only-of-type {\n",
              "        vertical-align: middle;\n",
              "    }\n",
              "\n",
              "    .dataframe tbody tr th {\n",
              "        vertical-align: top;\n",
              "    }\n",
              "\n",
              "    .dataframe thead th {\n",
              "        text-align: right;\n",
              "    }\n",
              "</style>\n",
              "<table border=\"1\" class=\"dataframe\">\n",
              "  <thead>\n",
              "    <tr style=\"text-align: right;\">\n",
              "      <th></th>\n",
              "      <th>url</th>\n",
              "      <th>label</th>\n",
              "    </tr>\n",
              "  </thead>\n",
              "  <tbody>\n",
              "    <tr>\n",
              "      <th>0</th>\n",
              "      <td>/content/drive/MyDrive/dataset/val/cleaning to...</td>\n",
              "      <td>cleaning toilet</td>\n",
              "    </tr>\n",
              "    <tr>\n",
              "      <th>1</th>\n",
              "      <td>/content/drive/MyDrive/dataset/val/applauding/...</td>\n",
              "      <td>applauding</td>\n",
              "    </tr>\n",
              "    <tr>\n",
              "      <th>2</th>\n",
              "      <td>/content/drive/MyDrive/dataset/val/washing dis...</td>\n",
              "      <td>washing dishes</td>\n",
              "    </tr>\n",
              "    <tr>\n",
              "      <th>3</th>\n",
              "      <td>/content/drive/MyDrive/dataset/val/cleaning to...</td>\n",
              "      <td>cleaning toilet</td>\n",
              "    </tr>\n",
              "    <tr>\n",
              "      <th>4</th>\n",
              "      <td>/content/drive/MyDrive/dataset/val/opening bot...</td>\n",
              "      <td>opening bottle (not wine)</td>\n",
              "    </tr>\n",
              "    <tr>\n",
              "      <th>...</th>\n",
              "      <td>...</td>\n",
              "      <td>...</td>\n",
              "    </tr>\n",
              "    <tr>\n",
              "      <th>575</th>\n",
              "      <td>/content/drive/MyDrive/dataset/val/smoking/2sM...</td>\n",
              "      <td>smoking</td>\n",
              "    </tr>\n",
              "    <tr>\n",
              "      <th>576</th>\n",
              "      <td>/content/drive/MyDrive/dataset/val/playing gui...</td>\n",
              "      <td>playing guitar</td>\n",
              "    </tr>\n",
              "    <tr>\n",
              "      <th>577</th>\n",
              "      <td>/content/drive/MyDrive/dataset/val/petting cat...</td>\n",
              "      <td>petting cat</td>\n",
              "    </tr>\n",
              "    <tr>\n",
              "      <th>578</th>\n",
              "      <td>/content/drive/MyDrive/dataset/val/playing car...</td>\n",
              "      <td>playing cards</td>\n",
              "    </tr>\n",
              "    <tr>\n",
              "      <th>579</th>\n",
              "      <td>/content/drive/MyDrive/dataset/val/playing gui...</td>\n",
              "      <td>playing guitar</td>\n",
              "    </tr>\n",
              "  </tbody>\n",
              "</table>\n",
              "<p>580 rows × 2 columns</p>\n",
              "</div>\n",
              "      <button class=\"colab-df-convert\" onclick=\"convertToInteractive('df-a8286c47-4ec1-42e5-8586-c12346962b78')\"\n",
              "              title=\"Convert this dataframe to an interactive table.\"\n",
              "              style=\"display:none;\">\n",
              "        \n",
              "  <svg xmlns=\"http://www.w3.org/2000/svg\" height=\"24px\"viewBox=\"0 0 24 24\"\n",
              "       width=\"24px\">\n",
              "    <path d=\"M0 0h24v24H0V0z\" fill=\"none\"/>\n",
              "    <path d=\"M18.56 5.44l.94 2.06.94-2.06 2.06-.94-2.06-.94-.94-2.06-.94 2.06-2.06.94zm-11 1L8.5 8.5l.94-2.06 2.06-.94-2.06-.94L8.5 2.5l-.94 2.06-2.06.94zm10 10l.94 2.06.94-2.06 2.06-.94-2.06-.94-.94-2.06-.94 2.06-2.06.94z\"/><path d=\"M17.41 7.96l-1.37-1.37c-.4-.4-.92-.59-1.43-.59-.52 0-1.04.2-1.43.59L10.3 9.45l-7.72 7.72c-.78.78-.78 2.05 0 2.83L4 21.41c.39.39.9.59 1.41.59.51 0 1.02-.2 1.41-.59l7.78-7.78 2.81-2.81c.8-.78.8-2.07 0-2.86zM5.41 20L4 18.59l7.72-7.72 1.47 1.35L5.41 20z\"/>\n",
              "  </svg>\n",
              "      </button>\n",
              "      \n",
              "  <style>\n",
              "    .colab-df-container {\n",
              "      display:flex;\n",
              "      flex-wrap:wrap;\n",
              "      gap: 12px;\n",
              "    }\n",
              "\n",
              "    .colab-df-convert {\n",
              "      background-color: #E8F0FE;\n",
              "      border: none;\n",
              "      border-radius: 50%;\n",
              "      cursor: pointer;\n",
              "      display: none;\n",
              "      fill: #1967D2;\n",
              "      height: 32px;\n",
              "      padding: 0 0 0 0;\n",
              "      width: 32px;\n",
              "    }\n",
              "\n",
              "    .colab-df-convert:hover {\n",
              "      background-color: #E2EBFA;\n",
              "      box-shadow: 0px 1px 2px rgba(60, 64, 67, 0.3), 0px 1px 3px 1px rgba(60, 64, 67, 0.15);\n",
              "      fill: #174EA6;\n",
              "    }\n",
              "\n",
              "    [theme=dark] .colab-df-convert {\n",
              "      background-color: #3B4455;\n",
              "      fill: #D2E3FC;\n",
              "    }\n",
              "\n",
              "    [theme=dark] .colab-df-convert:hover {\n",
              "      background-color: #434B5C;\n",
              "      box-shadow: 0px 1px 3px 1px rgba(0, 0, 0, 0.15);\n",
              "      filter: drop-shadow(0px 1px 2px rgba(0, 0, 0, 0.3));\n",
              "      fill: #FFFFFF;\n",
              "    }\n",
              "  </style>\n",
              "\n",
              "      <script>\n",
              "        const buttonEl =\n",
              "          document.querySelector('#df-a8286c47-4ec1-42e5-8586-c12346962b78 button.colab-df-convert');\n",
              "        buttonEl.style.display =\n",
              "          google.colab.kernel.accessAllowed ? 'block' : 'none';\n",
              "\n",
              "        async function convertToInteractive(key) {\n",
              "          const element = document.querySelector('#df-a8286c47-4ec1-42e5-8586-c12346962b78');\n",
              "          const dataTable =\n",
              "            await google.colab.kernel.invokeFunction('convertToInteractive',\n",
              "                                                     [key], {});\n",
              "          if (!dataTable) return;\n",
              "\n",
              "          const docLinkHtml = 'Like what you see? Visit the ' +\n",
              "            '<a target=\"_blank\" href=https://colab.research.google.com/notebooks/data_table.ipynb>data table notebook</a>'\n",
              "            + ' to learn more about interactive tables.';\n",
              "          element.innerHTML = '';\n",
              "          dataTable['output_type'] = 'display_data';\n",
              "          await google.colab.output.renderOutput(dataTable, element);\n",
              "          const docLink = document.createElement('div');\n",
              "          docLink.innerHTML = docLinkHtml;\n",
              "          element.appendChild(docLink);\n",
              "        }\n",
              "      </script>\n",
              "    </div>\n",
              "  </div>\n",
              "  "
            ]
          },
          "metadata": {},
          "execution_count": 88
        }
      ],
      "source": [
        "val_data=val_data.sample(frac=1).reset_index(drop=True)\n",
        "val_data"
      ]
    },
    {
      "cell_type": "markdown",
      "metadata": {
        "id": "LCscbkxSb7W_"
      },
      "source": [
        "##Video previsualitation with gif"
      ]
    },
    {
      "cell_type": "markdown",
      "metadata": {
        "id": "KhqWlbkxcD95"
      },
      "source": [
        "to be able to quickly the action made in a video"
      ]
    },
    {
      "cell_type": "code",
      "execution_count": 89,
      "metadata": {
        "id": "sRV3j_b9Nwrw"
      },
      "outputs": [],
      "source": [
        "def format_frames(frame, output_size):\n",
        "  \"\"\"\n",
        "    Pad and resize an image from a video.\n",
        "    \n",
        "    Args:\n",
        "      frame: Image that needs to resized and padded. \n",
        "      output_size: Pixel size of the output frame image.\n",
        "\n",
        "    Return:\n",
        "      Formatted frame with padding of specified output size.\n",
        "  \"\"\"\n",
        "  frame = tf.image.convert_image_dtype(frame, tf.float32)\n",
        "  frame = tf.image.resize_with_pad(frame, *output_size)\n",
        "  return frame"
      ]
    },
    {
      "cell_type": "code",
      "execution_count": 90,
      "metadata": {
        "id": "FTFZ6djbNwrx"
      },
      "outputs": [],
      "source": [
        "def frames_from_video_file(video_path, n_frames, output_size = (244,244), frame_step = 15):\n",
        "  \"\"\"\n",
        "    Creates frames from each video file present for each category.\n",
        "\n",
        "    Args:\n",
        "      video_path: File path to the video.\n",
        "      n_frames: Number of frames to be created per video file.\n",
        "      output_size: Pixel size of the output frame image.\n",
        "\n",
        "    Return:\n",
        "      An NumPy array of frames in the shape of (n_frames, height, width, channels).\n",
        "  \"\"\"\n",
        "  # Read each video frame by frame\n",
        "  result = []\n",
        "  src = cv2.VideoCapture(str(video_path))  \n",
        "\n",
        "  video_length = src.get(cv2.CAP_PROP_FRAME_COUNT)\n",
        "\n",
        "  need_length = 1 + (n_frames - 1) * frame_step\n",
        "\n",
        "  if need_length > video_length:\n",
        "    start = 0\n",
        "  else:\n",
        "    max_start = video_length - need_length\n",
        "    start = random.randint(0, max_start + 1)\n",
        "\n",
        "  src.set(cv2.CAP_PROP_POS_FRAMES, start)\n",
        "  # ret is a boolean indicating whether read was successful, frame is the image itself\n",
        "  ret, frame = src.read()\n",
        "  result.append(format_frames(frame, output_size))\n",
        "\n",
        "  for _ in range(n_frames - 1):\n",
        "    for _ in range(frame_step):\n",
        "      ret, frame = src.read()\n",
        "    if ret:\n",
        "      frame = format_frames(frame, output_size)\n",
        "      result.append(frame)\n",
        "    else:\n",
        "      result.append(np.zeros_like(result[0]))\n",
        "  src.release()\n",
        "  result = np.array(result)[..., [2, 1, 0]]\n",
        "\n",
        "  return result"
      ]
    },
    {
      "cell_type": "code",
      "execution_count": 91,
      "metadata": {
        "colab": {
          "base_uri": "https://localhost:8080/"
        },
        "id": "FeYsIZ1tNwrx",
        "outputId": "939d007b-e4b1-494f-a0ae-4cd7891a37cd"
      },
      "outputs": [
        {
          "output_type": "stream",
          "name": "stdout",
          "text": [
            "/content/drive/MyDrive/dataset/train/doing nails/-CnlgxPku8Y_000233_000243.mp4\n"
          ]
        }
      ],
      "source": [
        "video_path=train_data['url'][400]\n",
        "print(video_path)"
      ]
    },
    {
      "cell_type": "code",
      "execution_count": 92,
      "metadata": {
        "colab": {
          "base_uri": "https://localhost:8080/"
        },
        "id": "RJGokxPiNwry",
        "outputId": "7b80b818-4b43-460a-ec72-aa99983edcf4"
      },
      "outputs": [
        {
          "output_type": "execute_result",
          "data": {
            "text/plain": [
              "(10, 244, 244, 3)"
            ]
          },
          "metadata": {},
          "execution_count": 92
        }
      ],
      "source": [
        "sample_video = frames_from_video_file(video_path, n_frames = 10)\n",
        "sample_video.shape"
      ]
    },
    {
      "cell_type": "code",
      "execution_count": 93,
      "metadata": {
        "id": "JJm-EWxENwry"
      },
      "outputs": [],
      "source": [
        "def to_gif(images):\n",
        "  converted_images = np.clip(images * 255, 0, 255).astype(np.uint8)\n",
        "  imageio.mimsave('./animation.gif', converted_images, fps=10)\n",
        "  return embed.embed_file('./animation.gif')"
      ]
    },
    {
      "cell_type": "code",
      "execution_count": 94,
      "metadata": {
        "colab": {
          "base_uri": "https://localhost:8080/",
          "height": 266
        },
        "id": "PaY_YXurNwry",
        "outputId": "feb1adf5-eae0-4f5a-fd87-dd9c8b0a2c85"
      },
      "outputs": [
        {
          "output_type": "execute_result",
          "data": {
            "text/plain": [
              "<IPython.core.display.HTML object>"
            ],
            "text/html": [
              "<img src=\"data:image/gif;base64,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\"/>"
            ]
          },
          "metadata": {},
          "execution_count": 94
        }
      ],
      "source": [
        "to_gif(sample_video)"
      ]
    },
    {
      "cell_type": "markdown",
      "metadata": {
        "id": "eiN8alL0cZre"
      },
      "source": [
        "#DATA LOADER"
      ]
    },
    {
      "cell_type": "markdown",
      "metadata": {
        "id": "W8EiCqb_d2JV"
      },
      "source": [
        "##Variables"
      ]
    },
    {
      "cell_type": "code",
      "execution_count": 95,
      "metadata": {
        "id": "QIVjHCwxd7CG"
      },
      "outputs": [],
      "source": [
        "n_frames = 1\n",
        "bach_size_train = 20\n",
        "bach_size_val = 20\n"
      ]
    },
    {
      "cell_type": "markdown",
      "metadata": {
        "id": "NFg0F-tRdd5D"
      },
      "source": [
        "How many vidéos you want to use"
      ]
    },
    {
      "cell_type": "code",
      "execution_count": 96,
      "metadata": {
        "id": "HGvRwXZANwrz"
      },
      "outputs": [],
      "source": [
        "train_data=train_data.head(2000)\n",
        "val_data=val_data.head(200)"
      ]
    },
    {
      "cell_type": "markdown",
      "metadata": {
        "id": "PyGvivRrd40J"
      },
      "source": [
        "##Functions"
      ]
    },
    {
      "cell_type": "code",
      "execution_count": 97,
      "metadata": {
        "id": "rqp37aOjNwry"
      },
      "outputs": [],
      "source": [
        "class FrameGenerator:\n",
        "    def __init__(self, data, n_frames, training=False):\n",
        "      \n",
        "        \"\"\"Returns a set of frames with their associated label.\n",
        "\n",
        "        Args:\n",
        "            data: Pandas DataFrame containing the video URLs and labels.\n",
        "            n_frames: Number of frames.\n",
        "            training: Boolean to determine if training dataset is being created.\n",
        "        \"\"\"\n",
        "        self.path = data['url']\n",
        "        self.n_frames = n_frames\n",
        "        self.training = training\n",
        "        self.class_names = sorted(list(set(data['label'])))\n",
        "        self.class_ids_for_name = dict((name, idx) for idx, name in enumerate(self.class_names))\n",
        "\n",
        "    def get_files_and_class_names(self):\n",
        "        video_paths = [Path(p) for p in self.path.astype(str).tolist() if p.endswith('.mp4')]\n",
        "        classes = [p.parent.name for p in video_paths]\n",
        "        return video_paths, classes\n",
        "\n",
        "    def __call__(self):\n",
        "        video_paths, classes = self.get_files_and_class_names()\n",
        "\n",
        "        pairs = list(zip(video_paths, classes))\n",
        "\n",
        "        if self.training:\n",
        "            random.shuffle(pairs)\n",
        "\n",
        "        for path, name in pairs:\n",
        "\n",
        "            video_frames = frames_from_video_file(path, self.n_frames)\n",
        "            label = self.class_ids_for_name[name]  # Encode labels\n",
        "            yield video_frames, label"
      ]
    },
    {
      "cell_type": "code",
      "execution_count": 98,
      "metadata": {
        "colab": {
          "base_uri": "https://localhost:8080/"
        },
        "id": "mAUQUhIgNwrz",
        "outputId": "72a3100c-85ba-401b-8c78-fd5c879f733b"
      },
      "outputs": [
        {
          "output_type": "stream",
          "name": "stdout",
          "text": [
            "Shape: (2, 244, 244, 3)\n",
            "Label: 7\n"
          ]
        }
      ],
      "source": [
        "fg = FrameGenerator(train_data, 2, training=True)\n",
        "frames, label = next(fg())\n",
        "\n",
        "print(f\"Shape: {frames.shape}\")\n",
        "print(f\"Label: {label}\")\n"
      ]
    },
    {
      "cell_type": "code",
      "execution_count": 99,
      "metadata": {
        "colab": {
          "base_uri": "https://localhost:8080/",
          "height": 423
        },
        "id": "D9_xLdTqNwrz",
        "outputId": "cc325e79-52f4-47df-d1fd-c247d8c44f28"
      },
      "outputs": [
        {
          "output_type": "execute_result",
          "data": {
            "text/plain": [
              "                                                    url  \\\n",
              "0     /content/drive/MyDrive/dataset/train/opening b...   \n",
              "1     /content/drive/MyDrive/dataset/train/pillow fi...   \n",
              "2     /content/drive/MyDrive/dataset/train/vacuuming...   \n",
              "3     /content/drive/MyDrive/dataset/train/cleaning ...   \n",
              "4     /content/drive/MyDrive/dataset/train/doing nai...   \n",
              "...                                                 ...   \n",
              "1995  /content/drive/MyDrive/dataset/train/opening b...   \n",
              "1996  /content/drive/MyDrive/dataset/train/stretchin...   \n",
              "1997  /content/drive/MyDrive/dataset/train/petting c...   \n",
              "1998  /content/drive/MyDrive/dataset/train/vacuuming...   \n",
              "1999  /content/drive/MyDrive/dataset/train/stretchin...   \n",
              "\n",
              "                          label  \n",
              "0     opening bottle (not wine)  \n",
              "1                  pillow fight  \n",
              "2               vacuuming floor  \n",
              "3               cleaning toilet  \n",
              "4                   doing nails  \n",
              "...                         ...  \n",
              "1995  opening bottle (not wine)  \n",
              "1996             stretching arm  \n",
              "1997                petting cat  \n",
              "1998            vacuuming floor  \n",
              "1999             stretching arm  \n",
              "\n",
              "[2000 rows x 2 columns]"
            ],
            "text/html": [
              "\n",
              "  <div id=\"df-ae9dd240-4344-4855-b8c0-3929e2d66352\">\n",
              "    <div class=\"colab-df-container\">\n",
              "      <div>\n",
              "<style scoped>\n",
              "    .dataframe tbody tr th:only-of-type {\n",
              "        vertical-align: middle;\n",
              "    }\n",
              "\n",
              "    .dataframe tbody tr th {\n",
              "        vertical-align: top;\n",
              "    }\n",
              "\n",
              "    .dataframe thead th {\n",
              "        text-align: right;\n",
              "    }\n",
              "</style>\n",
              "<table border=\"1\" class=\"dataframe\">\n",
              "  <thead>\n",
              "    <tr style=\"text-align: right;\">\n",
              "      <th></th>\n",
              "      <th>url</th>\n",
              "      <th>label</th>\n",
              "    </tr>\n",
              "  </thead>\n",
              "  <tbody>\n",
              "    <tr>\n",
              "      <th>0</th>\n",
              "      <td>/content/drive/MyDrive/dataset/train/opening b...</td>\n",
              "      <td>opening bottle (not wine)</td>\n",
              "    </tr>\n",
              "    <tr>\n",
              "      <th>1</th>\n",
              "      <td>/content/drive/MyDrive/dataset/train/pillow fi...</td>\n",
              "      <td>pillow fight</td>\n",
              "    </tr>\n",
              "    <tr>\n",
              "      <th>2</th>\n",
              "      <td>/content/drive/MyDrive/dataset/train/vacuuming...</td>\n",
              "      <td>vacuuming floor</td>\n",
              "    </tr>\n",
              "    <tr>\n",
              "      <th>3</th>\n",
              "      <td>/content/drive/MyDrive/dataset/train/cleaning ...</td>\n",
              "      <td>cleaning toilet</td>\n",
              "    </tr>\n",
              "    <tr>\n",
              "      <th>4</th>\n",
              "      <td>/content/drive/MyDrive/dataset/train/doing nai...</td>\n",
              "      <td>doing nails</td>\n",
              "    </tr>\n",
              "    <tr>\n",
              "      <th>...</th>\n",
              "      <td>...</td>\n",
              "      <td>...</td>\n",
              "    </tr>\n",
              "    <tr>\n",
              "      <th>1995</th>\n",
              "      <td>/content/drive/MyDrive/dataset/train/opening b...</td>\n",
              "      <td>opening bottle (not wine)</td>\n",
              "    </tr>\n",
              "    <tr>\n",
              "      <th>1996</th>\n",
              "      <td>/content/drive/MyDrive/dataset/train/stretchin...</td>\n",
              "      <td>stretching arm</td>\n",
              "    </tr>\n",
              "    <tr>\n",
              "      <th>1997</th>\n",
              "      <td>/content/drive/MyDrive/dataset/train/petting c...</td>\n",
              "      <td>petting cat</td>\n",
              "    </tr>\n",
              "    <tr>\n",
              "      <th>1998</th>\n",
              "      <td>/content/drive/MyDrive/dataset/train/vacuuming...</td>\n",
              "      <td>vacuuming floor</td>\n",
              "    </tr>\n",
              "    <tr>\n",
              "      <th>1999</th>\n",
              "      <td>/content/drive/MyDrive/dataset/train/stretchin...</td>\n",
              "      <td>stretching arm</td>\n",
              "    </tr>\n",
              "  </tbody>\n",
              "</table>\n",
              "<p>2000 rows × 2 columns</p>\n",
              "</div>\n",
              "      <button class=\"colab-df-convert\" onclick=\"convertToInteractive('df-ae9dd240-4344-4855-b8c0-3929e2d66352')\"\n",
              "              title=\"Convert this dataframe to an interactive table.\"\n",
              "              style=\"display:none;\">\n",
              "        \n",
              "  <svg xmlns=\"http://www.w3.org/2000/svg\" height=\"24px\"viewBox=\"0 0 24 24\"\n",
              "       width=\"24px\">\n",
              "    <path d=\"M0 0h24v24H0V0z\" fill=\"none\"/>\n",
              "    <path d=\"M18.56 5.44l.94 2.06.94-2.06 2.06-.94-2.06-.94-.94-2.06-.94 2.06-2.06.94zm-11 1L8.5 8.5l.94-2.06 2.06-.94-2.06-.94L8.5 2.5l-.94 2.06-2.06.94zm10 10l.94 2.06.94-2.06 2.06-.94-2.06-.94-.94-2.06-.94 2.06-2.06.94z\"/><path d=\"M17.41 7.96l-1.37-1.37c-.4-.4-.92-.59-1.43-.59-.52 0-1.04.2-1.43.59L10.3 9.45l-7.72 7.72c-.78.78-.78 2.05 0 2.83L4 21.41c.39.39.9.59 1.41.59.51 0 1.02-.2 1.41-.59l7.78-7.78 2.81-2.81c.8-.78.8-2.07 0-2.86zM5.41 20L4 18.59l7.72-7.72 1.47 1.35L5.41 20z\"/>\n",
              "  </svg>\n",
              "      </button>\n",
              "      \n",
              "  <style>\n",
              "    .colab-df-container {\n",
              "      display:flex;\n",
              "      flex-wrap:wrap;\n",
              "      gap: 12px;\n",
              "    }\n",
              "\n",
              "    .colab-df-convert {\n",
              "      background-color: #E8F0FE;\n",
              "      border: none;\n",
              "      border-radius: 50%;\n",
              "      cursor: pointer;\n",
              "      display: none;\n",
              "      fill: #1967D2;\n",
              "      height: 32px;\n",
              "      padding: 0 0 0 0;\n",
              "      width: 32px;\n",
              "    }\n",
              "\n",
              "    .colab-df-convert:hover {\n",
              "      background-color: #E2EBFA;\n",
              "      box-shadow: 0px 1px 2px rgba(60, 64, 67, 0.3), 0px 1px 3px 1px rgba(60, 64, 67, 0.15);\n",
              "      fill: #174EA6;\n",
              "    }\n",
              "\n",
              "    [theme=dark] .colab-df-convert {\n",
              "      background-color: #3B4455;\n",
              "      fill: #D2E3FC;\n",
              "    }\n",
              "\n",
              "    [theme=dark] .colab-df-convert:hover {\n",
              "      background-color: #434B5C;\n",
              "      box-shadow: 0px 1px 3px 1px rgba(0, 0, 0, 0.15);\n",
              "      filter: drop-shadow(0px 1px 2px rgba(0, 0, 0, 0.3));\n",
              "      fill: #FFFFFF;\n",
              "    }\n",
              "  </style>\n",
              "\n",
              "      <script>\n",
              "        const buttonEl =\n",
              "          document.querySelector('#df-ae9dd240-4344-4855-b8c0-3929e2d66352 button.colab-df-convert');\n",
              "        buttonEl.style.display =\n",
              "          google.colab.kernel.accessAllowed ? 'block' : 'none';\n",
              "\n",
              "        async function convertToInteractive(key) {\n",
              "          const element = document.querySelector('#df-ae9dd240-4344-4855-b8c0-3929e2d66352');\n",
              "          const dataTable =\n",
              "            await google.colab.kernel.invokeFunction('convertToInteractive',\n",
              "                                                     [key], {});\n",
              "          if (!dataTable) return;\n",
              "\n",
              "          const docLinkHtml = 'Like what you see? Visit the ' +\n",
              "            '<a target=\"_blank\" href=https://colab.research.google.com/notebooks/data_table.ipynb>data table notebook</a>'\n",
              "            + ' to learn more about interactive tables.';\n",
              "          element.innerHTML = '';\n",
              "          dataTable['output_type'] = 'display_data';\n",
              "          await google.colab.output.renderOutput(dataTable, element);\n",
              "          const docLink = document.createElement('div');\n",
              "          docLink.innerHTML = docLinkHtml;\n",
              "          element.appendChild(docLink);\n",
              "        }\n",
              "      </script>\n",
              "    </div>\n",
              "  </div>\n",
              "  "
            ]
          },
          "metadata": {},
          "execution_count": 99
        }
      ],
      "source": [
        "train_data"
      ]
    },
    {
      "cell_type": "code",
      "execution_count": 100,
      "metadata": {
        "id": "LEHQR-mGNwrz"
      },
      "outputs": [],
      "source": [
        "# Create the training set\n",
        "output_signature = (tf.TensorSpec(shape = (None, None, None, 3), dtype = tf.float32),\n",
        "                    tf.TensorSpec(shape = (), dtype = tf.int16))\n",
        "train_ds = tf.data.Dataset.from_generator(FrameGenerator(train_data, 2, training=True),\n",
        "                                          output_signature = output_signature)"
      ]
    },
    {
      "cell_type": "code",
      "execution_count": 101,
      "metadata": {
        "colab": {
          "base_uri": "https://localhost:8080/"
        },
        "id": "qcxNK5gYNwrz",
        "outputId": "e16faaaf-54bd-4e88-f724-83c40ac6af92"
      },
      "outputs": [
        {
          "output_type": "stream",
          "name": "stdout",
          "text": [
            "tf.Tensor(8, shape=(), dtype=int16)\n",
            "tf.Tensor(10, shape=(), dtype=int16)\n",
            "tf.Tensor(3, shape=(), dtype=int16)\n",
            "tf.Tensor(2, shape=(), dtype=int16)\n",
            "tf.Tensor(12, shape=(), dtype=int16)\n",
            "tf.Tensor(6, shape=(), dtype=int16)\n",
            "tf.Tensor(1, shape=(), dtype=int16)\n",
            "tf.Tensor(1, shape=(), dtype=int16)\n",
            "tf.Tensor(10, shape=(), dtype=int16)\n",
            "tf.Tensor(0, shape=(), dtype=int16)\n",
            "tf.Tensor(2, shape=(), dtype=int16)\n",
            "tf.Tensor(10, shape=(), dtype=int16)\n"
          ]
        }
      ],
      "source": [
        "for frames, labels in train_ds.take(12):\n",
        "  print(labels)"
      ]
    },
    {
      "cell_type": "code",
      "execution_count": 102,
      "metadata": {
        "id": "z2-T6CdMNwr0"
      },
      "outputs": [],
      "source": [
        "# Create the validation set\n",
        "val_ds = tf.data.Dataset.from_generator(FrameGenerator(val_data, 2),\n",
        "                                        output_signature = output_signature)"
      ]
    },
    {
      "cell_type": "code",
      "execution_count": 103,
      "metadata": {
        "colab": {
          "base_uri": "https://localhost:8080/"
        },
        "id": "TQycmVYrNwr0",
        "outputId": "6519da28-941d-4868-fe7f-87d234af55df"
      },
      "outputs": [
        {
          "output_type": "stream",
          "name": "stdout",
          "text": [
            "Shape of training set of frames: (2, 244, 244, 3)\n",
            "Shape of training labels: ()\n",
            "Shape of validation set of frames: (2, 244, 244, 3)\n",
            "Shape of validation labels: ()\n"
          ]
        }
      ],
      "source": [
        "# Print the shapes of the data\n",
        "train_frames, train_labels = next(iter(train_ds))\n",
        "print(f'Shape of training set of frames: {train_frames.shape}')\n",
        "print(f'Shape of training labels: {train_labels.shape}')\n",
        "\n",
        "val_frames, val_labels = next(iter(val_ds))\n",
        "print(f'Shape of validation set of frames: {val_frames.shape}')\n",
        "print(f'Shape of validation labels: {val_labels.shape}')"
      ]
    },
    {
      "cell_type": "code",
      "execution_count": 104,
      "metadata": {
        "colab": {
          "base_uri": "https://localhost:8080/"
        },
        "id": "vsUBmfiHNwr0",
        "outputId": "44442516-7bf8-45d5-c77a-56adad1bcb70"
      },
      "outputs": [
        {
          "output_type": "stream",
          "name": "stdout",
          "text": [
            "(2, 244, 244, 3)\n",
            "()\n",
            "(2, 244, 244, 3)\n",
            "()\n"
          ]
        },
        {
          "output_type": "execute_result",
          "data": {
            "text/plain": [
              "<tf.Tensor: shape=(), dtype=int16, numpy=3>"
            ]
          },
          "metadata": {},
          "execution_count": 104
        }
      ],
      "source": [
        "print(train_frames.shape)\n",
        "print(train_labels.shape)\n",
        "print(val_frames.shape)\n",
        "print(val_labels.shape)\n",
        "train_frames\n",
        "train_labels"
      ]
    },
    {
      "cell_type": "code",
      "execution_count": 105,
      "metadata": {
        "id": "-b5zPjjkNwr1"
      },
      "outputs": [],
      "source": [
        "AUTOTUNE = tf.data.AUTOTUNE\n",
        "\n",
        "train_ds = train_ds.cache().shuffle(1000).prefetch(buffer_size = AUTOTUNE)\n",
        "val_ds = val_ds.cache().shuffle(1000).prefetch(buffer_size = AUTOTUNE)"
      ]
    },
    {
      "cell_type": "markdown",
      "metadata": {
        "id": "pLxzjrnRecPH"
      },
      "source": [
        "##Build the final data"
      ]
    },
    {
      "cell_type": "code",
      "execution_count": 106,
      "metadata": {
        "id": "JjMTBe8qx9Te"
      },
      "outputs": [],
      "source": [
        "train_ds = train_ds.batch(bach_size_train)\n",
        "val_ds = val_ds.batch(bach_size_val)"
      ]
    },
    {
      "cell_type": "code",
      "execution_count": null,
      "metadata": {
        "id": "VTC6NtBQrsML"
      },
      "outputs": [],
      "source": [
        "train_frames, train_labels = next(iter(train_ds))\n",
        "print(f'Shape of training set of frames: {train_frames.shape}')\n",
        "print(f'Shape of training labels: {train_labels.shape}')"
      ]
    },
    {
      "cell_type": "code",
      "execution_count": null,
      "metadata": {
        "id": "fFdhAhFXNwr1"
      },
      "outputs": [],
      "source": [
        "val_frames, val_labels = next(iter(val_ds))\n",
        "print(f'Shape of validation set of frames: {val_frames.shape}')\n",
        "print(f'Shape of validation labels: {val_labels.shape}')"
      ]
    },
    {
      "cell_type": "markdown",
      "metadata": {
        "id": "wp4q7yZ5c_ma"
      },
      "source": [
        "#BUILD AND TRAIN THE MODEL"
      ]
    },
    {
      "cell_type": "code",
      "execution_count": null,
      "metadata": {
        "id": "7U8CGJoFNwr1"
      },
      "outputs": [],
      "source": [
        "drop_out=0.35\n",
        "net = tf.keras.applications.EfficientNetB0(include_top = False)\n",
        "net.trainable = False\n",
        "\n",
        "model = tf.keras.Sequential([\n",
        "    tf.keras.layers.Rescaling(scale=255),\n",
        "    tf.keras.layers.Dropout(drop_out),\n",
        "    \n",
        "    tf.keras.layers.TimeDistributed(net),\n",
        "    tf.keras.layers.Dropout(drop_out),\n",
        "\n",
        "    \n",
        "    tf.keras.layers.Dense(512),\n",
        "    tf.keras.layers.Dropout(drop_out),\n",
        "\n",
        "    tf.keras.layers.Dense(232),\n",
        "    tf.keras.layers.Dropout(drop_out),\n",
        "\n",
        "\n",
        "\n",
        "    tf.keras.layers.Dense(128),\n",
        "    tf.keras.layers.Dropout(drop_out),\n",
        "\n",
        "    tf.keras.layers.Dense(96),\n",
        "    tf.keras.layers.Dropout(drop_out),\n",
        "    \n",
        "    \n",
        "    tf.keras.layers.Dense(64),\n",
        "    tf.keras.layers.Dropout(drop_out),\n",
        "\n",
        "    tf.keras.layers.Dense(32),\n",
        "    tf.keras.layers.Dropout(drop_out),\n",
        "\n",
        "    tf.keras.layers.Dense(24),\n",
        "    tf.keras.layers.Dropout(drop_out),\n",
        "\n",
        "    tf.keras.layers.Dense(12),#, activation=\"softmax\"\n",
        "    tf.keras.layers.Dropout(drop_out),\n",
        "    \n",
        "    tf.keras.layers.GlobalAveragePooling3D()\n",
        "    \n",
        "])\n",
        "\n",
        "model.compile(optimizer = 'adam',\n",
        "              loss=tf.keras.losses.SparseCategoricalCrossentropy(from_logits = True),\n",
        "              metrics=['accuracy'])\n",
        "\n",
        "\n",
        "\n",
        "\n",
        "model.build((20, 2, 244, 244, 3))\n",
        "model.summary()"
      ]
    },
    {
      "cell_type": "code",
      "execution_count": null,
      "metadata": {
        "id": "sq2HaPEyOGyY"
      },
      "outputs": [],
      "source": [
        "model.fit(train_ds, \n",
        "          epochs = 30,\n",
        "          validation_data = val_ds,\n",
        "          callbacks = tf.keras.callbacks.EarlyStopping(patience = 30, monitor = 'val_loss'))"
      ]
    },
    {
      "cell_type": "markdown",
      "metadata": {
        "id": "824lanAHdGB-"
      },
      "source": [
        "#EXPORT/IMPORT THE MODEL"
      ]
    },
    {
      "cell_type": "code",
      "execution_count": null,
      "metadata": {
        "id": "Ll2i7oh7wgxM"
      },
      "outputs": [],
      "source": [
        "#tf.saved_model.save(model, r\"/content/drive/MyDrive/dataset/model\")"
      ]
    },
    {
      "cell_type": "code",
      "execution_count": null,
      "metadata": {
        "id": "emyaqdYYyC_N"
      },
      "outputs": [],
      "source": [
        "# Charger le modèle TensorFlow\n",
        "#loaded_model = tf.saved_model.load(r\"/content/drive/MyDrive/dataset/model\")\n",
        "\n",
        "# Utiliser le modèle pour faire des prédictions\n",
        "#result = loaded_model.predict(inputs)"
      ]
    },
    {
      "cell_type": "code",
      "execution_count": null,
      "metadata": {
        "id": "g3inssLllzBO"
      },
      "outputs": [],
      "source": [
        "to_gif(sample_video)\n"
      ]
    },
    {
      "cell_type": "code",
      "execution_count": null,
      "metadata": {
        "id": "lcoO5mDBmB1n"
      },
      "outputs": [],
      "source": [
        "video_path=train_data['label'][400]\n",
        "print(video_path)"
      ]
    },
    {
      "cell_type": "code",
      "execution_count": null,
      "metadata": {
        "id": "xzmTrrQhmEo6"
      },
      "outputs": [],
      "source": [
        "test_predict= train_data.iloc[[403]] # double crochets pour extraire sous forme de dataframe\n",
        "test_predict"
      ]
    },
    {
      "cell_type": "code",
      "execution_count": null,
      "metadata": {
        "id": "zOJT9vfHnRO_"
      },
      "outputs": [],
      "source": [
        "print(type(test_predict))\n",
        "print(type(train_data))"
      ]
    },
    {
      "cell_type": "code",
      "execution_count": null,
      "metadata": {
        "id": "3FmJ30MJouYn"
      },
      "outputs": [],
      "source": [
        "fg = FrameGenerator(test_predict, 2, training=True)\n",
        "print(fg)\n"
      ]
    },
    {
      "cell_type": "code",
      "execution_count": null,
      "metadata": {
        "id": "NA1W6wo8qfkK"
      },
      "outputs": [],
      "source": [
        "test_ds = tf.data.Dataset.from_generator(FrameGenerator(test_predict, 1),\n",
        "                                        output_signature = output_signature)"
      ]
    },
    {
      "cell_type": "code",
      "execution_count": null,
      "metadata": {
        "id": "nQqvS1sbo-gh"
      },
      "outputs": [],
      "source": []
    },
    {
      "cell_type": "code",
      "source": [
        "test_frames, test_labels = next(iter(train_ds))\n",
        "\n",
        "prediction = model.predict(test_frames)"
      ],
      "metadata": {
        "id": "lIYjzsONT27a"
      },
      "execution_count": null,
      "outputs": []
    },
    {
      "cell_type": "code",
      "source": [
        "print(len(prediction))\n",
        "print(len(prediction[0]))\n",
        "print(len(test_labels))\n",
        "\n",
        "print(prediction)"
      ],
      "metadata": {
        "id": "NFblU4dIf8sM"
      },
      "execution_count": null,
      "outputs": []
    },
    {
      "cell_type": "code",
      "source": [
        "print(test_labels)"
      ],
      "metadata": {
        "id": "F_Ie607tlnZS"
      },
      "execution_count": null,
      "outputs": []
    },
    {
      "cell_type": "code",
      "source": [],
      "metadata": {
        "id": "2w8OlFN2kxSu"
      },
      "execution_count": null,
      "outputs": []
    },
    {
      "cell_type": "code",
      "source": [
        "labels = np.argmax(prediction, axis=1)\n",
        "\n",
        "print(labels)"
      ],
      "metadata": {
        "id": "CVOwQq9ikNo9"
      },
      "execution_count": null,
      "outputs": []
    }
  ],
  "metadata": {
    "accelerator": "GPU",
    "colab": {
      "collapsed_sections": [
        "wGt08k1sar_R",
        "Go9UXoJDbtLW"
      ],
      "provenance": [],
      "include_colab_link": true
    },
    "gpuClass": "standard",
    "kernelspec": {
      "display_name": "ia",
      "language": "python",
      "name": "python3"
    },
    "language_info": {
      "codemirror_mode": {
        "name": "ipython",
        "version": 3
      },
      "file_extension": ".py",
      "mimetype": "text/x-python",
      "name": "python",
      "nbconvert_exporter": "python",
      "pygments_lexer": "ipython3",
      "version": "3.10.10"
    },
    "vscode": {
      "interpreter": {
        "hash": "b2531cb73d5455e25b1f43841a37a37179415aa4f413ac914341332ee7aa6212"
      }
    }
  },
  "nbformat": 4,
  "nbformat_minor": 0
}